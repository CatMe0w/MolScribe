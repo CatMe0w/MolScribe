{
 "cells": [
  {
   "cell_type": "code",
   "execution_count": 52,
   "id": "e06eeb08",
   "metadata": {
    "tags": []
   },
   "outputs": [],
   "source": [
    "import pandas as pd\n",
    "import Levenshtein\n",
    "import rdkit\n",
    "import rdkit.Chem as Chem\n",
    "rdkit.RDLogger.DisableLog('rdApp.*')\n",
    "\n",
    "ROOT_PATH = \"/data/rsg/nlp/yujieq/bms/\"\n",
    "\n",
    "gold = pd.read_csv(ROOT_PATH + 'data/valid_folds.csv')\n",
    "\n",
    "pred_smiles = []\n",
    "with open(ROOT_PATH + 'output/swin_base_384_epoch_16_multi_aug2/valid_atomtok_beam.txt') as f:\n",
    "    for line in f:\n",
    "        if line.startswith('ID'):\n",
    "            pred_smiles.append([])\n",
    "            continue\n",
    "        pred_smiles[-1].append(line.strip())"
   ]
  },
  {
   "cell_type": "code",
   "execution_count": 53,
   "id": "c27208a2",
   "metadata": {},
   "outputs": [
    {
     "name": "stderr",
     "output_type": "stream",
     "text": [
      "242419it [01:17, 3136.66it/s]"
     ]
    },
    {
     "name": "stdout",
     "output_type": "stream",
     "text": [
      "238859\n",
      "0.9853146824300075\n"
     ]
    },
    {
     "name": "stderr",
     "output_type": "stream",
     "text": [
      "\n"
     ]
    }
   ],
   "source": [
    "from tqdm import tqdm\n",
    "\n",
    "n_correct = 0\n",
    "for i, row in tqdm(gold.iterrows()):\n",
    "    num_atom = row['num_atom']\n",
    "    mol = Chem.MolFromSmiles(pred_smiles[i][0])\n",
    "    if mol and mol.GetNumAtoms() == num_atom:\n",
    "        n_correct += 1\n",
    "print(n_correct)\n",
    "print(n_correct / len(gold))"
   ]
  },
  {
   "cell_type": "code",
   "execution_count": 49,
   "id": "ac9b75f7",
   "metadata": {},
   "outputs": [
    {
     "name": "stdout",
     "output_type": "stream",
     "text": [
      "233\n"
     ]
    }
   ],
   "source": [
    "pred = pd.read_csv(ROOT_PATH + 'output/swin_base_384_epoch_16_multi_aug/prediction_valid.csv')\n",
    "\n",
    "def is_valid(str_, format_='atomtok'):\n",
    "    if format_ == 'atomtok':\n",
    "        mol = Chem.MolFromSmiles(str_)\n",
    "    elif format_ == 'inchi':\n",
    "        mol = Chem.MolFromInchi(str_)\n",
    "    else:\n",
    "        raise NotImplemented\n",
    "    return mol is not None\n",
    "\n",
    "cnt = 0\n",
    "for i, row in pred.iterrows():\n",
    "    if not is_valid(pred_smiles[i][0]):\n",
    "        cnt += 1\n",
    "#         print([is_valid(s) for s in pred_smiles[i]])\n",
    "#         break\n",
    "\n",
    "print(cnt)"
   ]
  },
  {
   "cell_type": "code",
   "execution_count": 8,
   "id": "53265fce",
   "metadata": {},
   "outputs": [],
   "source": [
    "import multiprocessing\n",
    "\n",
    "def convert_smiles_to_inchi(smiles):\n",
    "    try:\n",
    "        mol = Chem.MolFromSmiles(smiles)\n",
    "        inchi = Chem.MolToInchi(mol)\n",
    "    except:\n",
    "        inchi = None\n",
    "    return inchi\n",
    "\n",
    "\n",
    "def batch_convert_smiles_to_inchi(smiles_list, num_workers=16):\n",
    "    with multiprocessing.Pool(num_workers) as p:\n",
    "        inchi_list = p.map(convert_smiles_to_inchi, smiles_list)\n",
    "    n_success = sum([x is not None for x in inchi_list])\n",
    "    r_success = n_success / len(inchi_list)\n",
    "    inchi_list = [x if x else 'InChI=1S/H2O/h1H2' for x in inchi_list]\n",
    "    return inchi_list, r_success"
   ]
  },
  {
   "cell_type": "code",
   "execution_count": 16,
   "id": "8a3d592d",
   "metadata": {},
   "outputs": [
    {
     "name": "stdout",
     "output_type": "stream",
     "text": [
      "0.8044460211452072\n"
     ]
    }
   ],
   "source": [
    "import numpy as np\n",
    "np_pred = np.array(pred_smiles)\n",
    "flatten_pred = np_pred.flatten()\n",
    "\n",
    "pred_inchi_list, r = batch_convert_smiles_to_inchi(flatten_pred)\n",
    "print(r)\n",
    "\n",
    "pred_inchi = np.array(pred_inchi_list).reshape(np_pred.shape)"
   ]
  },
  {
   "cell_type": "code",
   "execution_count": 35,
   "id": "ab0f6413",
   "metadata": {},
   "outputs": [
    {
     "name": "stdout",
     "output_type": "stream",
     "text": [
      "1\n",
      "0.9915971932893048\n",
      "0.9311275106324174\n",
      "0.9985768442242563\n",
      "2\n",
      "0.5434145013385915\n",
      "0.9700807279957429\n",
      "0.9992286083186549\n",
      "4\n",
      "0.38795226446771913\n",
      "0.9828891299774357\n",
      "0.9995957412579047\n",
      "8\n",
      "0.3070881407810444\n",
      "0.9878268617558855\n",
      "0.9997772451829271\n",
      "10\n",
      "0.2881663565974614\n",
      "0.9886642548645115\n",
      "0.9998143709857725\n"
     ]
    }
   ],
   "source": [
    "gold_inchi = gold['InChI'].values\n",
    "nbest, score_d, score_em = [], [], []\n",
    "\n",
    "for n in [1,2,4,8,10]:\n",
    "    distances, ems, success = [], [], []\n",
    "    for pred, gi in zip(pred_inchi, gold_inchi):\n",
    "        d = [Levenshtein.distance(gi, pi) for pi in pred[:n]] \n",
    "        distances.append(min(d))\n",
    "        ems.append(min(d) == 0)\n",
    "        success.append(any([pi != 'InChI=1S/H2O/h1H2' for pi in pred[:n]]))\n",
    "    print(n)\n",
    "    print(np.mean(distances))\n",
    "    print(np.mean(ems))\n",
    "    print(np.mean(success))\n",
    "    nbest.append(n)\n",
    "    score_d.append(np.mean(distances))\n",
    "    score_em.append(np.mean(ems))"
   ]
  },
  {
   "cell_type": "code",
   "execution_count": 36,
   "id": "1e153667",
   "metadata": {},
   "outputs": [
    {
     "data": {
      "text/plain": [
       "Text(0, 0.5, 'InChI Exact Match')"
      ]
     },
     "execution_count": 36,
     "metadata": {},
     "output_type": "execute_result"
    },
    {
     "data": {
      "image/png": "[encoded data removed]",
      "text/plain": [
       "<Figure size 432x288 with 1 Axes>"
      ]
     },
     "metadata": {
      "needs_background": "light"
     },
     "output_type": "display_data"
    },
    {
     "data": {
      "image/png": "[encoded data removed]",
      "text/plain": [
       "<Figure size 432x288 with 1 Axes>"
      ]
     },
     "metadata": {
      "needs_background": "light"
     },
     "output_type": "display_data"
    }
   ],
   "source": [
    "import seaborn as sns\n",
    "import matplotlib.pyplot as plt\n",
    "\n",
    "sns.lineplot(x=nbest, y=score_d, marker='o')\n",
    "plt.xlabel('Beam size')\n",
    "plt.ylabel('InChI LD')\n",
    "\n",
    "plt.figure()\n",
    "sns.lineplot(x=nbest, y=score_em, marker='o')\n",
    "plt.xlabel('Beam size')\n",
    "plt.ylabel('InChI Exact Match')"
   ]
  },
  {
   "cell_type": "code",
   "execution_count": 22,
   "id": "5ea9926c",
   "metadata": {},
   "outputs": [
    {
     "name": "stdout",
     "output_type": "stream",
     "text": [
      "0.10628704845742289\n",
      "0.9856364393880017\n"
     ]
    }
   ],
   "source": [
    "gold_smiles = gold['SMILES'].values\n",
    "\n",
    "distances, ems = [], []\n",
    "for pred, gs in zip(pred_smiles, gold_smiles):\n",
    "    d = [Levenshtein.distance(gs, ps) for ps in pred]\n",
    "    distances.append(min(d))\n",
    "    ems.append(min(d) == 0)\n",
    "\n",
    "print(np.mean(distances))\n",
    "print(np.mean(ems))"
   ]
  }
 ],
 "metadata": {
  "kernelspec": {
   "display_name": "Python 3",
   "language": "python",
   "name": "python3"
  },
  "language_info": {
   "codemirror_mode": {
    "name": "ipython",
    "version": 3
   },
   "file_extension": ".py",
   "mimetype": "text/x-python",
   "name": "python",
   "nbconvert_exporter": "python",
   "pygments_lexer": "ipython3",
   "version": "3.7.10"
  }
 },
 "nbformat": 4,
 "nbformat_minor": 5
}
