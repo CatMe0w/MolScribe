{
 "cells": [
  {
   "cell_type": "code",
   "execution_count": 71,
   "id": "applicable-radar",
   "metadata": {},
   "outputs": [],
   "source": [
    "import numpy as np\n",
    "import pandas as pd\n",
    "import sys\n",
    "from rdkit import Chem\n",
    "sys.path.append('../')\n",
    "from bms.chemistry import _expand_functional_group, _verify_chirality\n",
    "from bms.constants import RGROUP_SYMBOLS, PLACEHOLDER_ATOMS, SUBSTITUTIONS, ABBREVIATIONS\n",
    "from tqdm import tqdm"
   ]
  },
  {
   "cell_type": "code",
   "execution_count": 76,
   "id": "acknowledged-meditation",
   "metadata": {},
   "outputs": [],
   "source": [
    "EXPECTED_BONDS = {\n",
    "    \"C\": 4,\n",
    "    \"[C@]\": 4,\n",
    "    \"[C@@]\": 4,\n",
    "    \"[C@H]\": 3,\n",
    "    \"[C@@H]\": 3,\n",
    "    \"O\": 2,\n",
    "    \"[O-]\": 1,\n",
    "    \"N\": 3,\n",
    "    \"[N+]\": 4,\n",
    "    \"[H]\": 1\n",
    "}\n",
    "\n",
    "BondTypeMap = {\n",
    "    Chem.BondType.SINGLE: 1.0,\n",
    "    Chem.BondType.DOUBLE: 2.0,\n",
    "    Chem.BondType.TRIPLE: 3.0,\n",
    "    Chem.BondType.AROMATIC: 1.5,\n",
    "    Chem.BondType.UNSPECIFIED: 0.0\n",
    "}"
   ]
  },
  {
   "cell_type": "code",
   "execution_count": 77,
   "id": "velvet-skirt",
   "metadata": {},
   "outputs": [],
   "source": [
    "def _convert_graph_to_smiles(coords, symbols, edges, edges_prob, debug=False):\n",
    "    mol = Chem.RWMol()\n",
    "    n = len(symbols)\n",
    "    ids = []\n",
    "    symbol_to_placeholder = {}\n",
    "    mappings = []\n",
    "    for i in range(n):\n",
    "        symbol = symbols[i]\n",
    "        if symbol[0] == '[':\n",
    "            symbol = symbol[1:-1]\n",
    "        if symbol in RGROUP_SYMBOLS:\n",
    "            atom = Chem.Atom(\"*\")\n",
    "            atom.SetIsotope(RGROUP_SYMBOLS.index(symbol))\n",
    "            idx = mol.AddAtom(atom)\n",
    "        elif symbol in ABBREVIATIONS:\n",
    "            if symbol not in symbol_to_placeholder:\n",
    "                j = len(symbol_to_placeholder)\n",
    "                assert j < len(PLACEHOLDER_ATOMS), \"Not enough placeholders\"\n",
    "                placeholder = PLACEHOLDER_ATOMS[j]\n",
    "                symbol_to_placeholder[symbol] = placeholder\n",
    "            else:\n",
    "                placeholder = symbol_to_placeholder[symbol]\n",
    "            sub = ABBREVIATIONS[symbol]\n",
    "            mappings.append((placeholder, sub.smiles))\n",
    "            atom = Chem.Atom(placeholder)\n",
    "            idx = mol.AddAtom(atom)\n",
    "        else:\n",
    "            symbol = symbols[i]\n",
    "            try:\n",
    "                atom = Chem.AtomFromSmiles(symbol)\n",
    "                atom.SetChiralTag(Chem.rdchem.ChiralType.CHI_UNSPECIFIED)\n",
    "                idx = mol.AddAtom(atom)\n",
    "            except:\n",
    "                atom = Chem.Atom(\"*\")\n",
    "                idx = mol.AddAtom(atom)\n",
    "        assert idx == i\n",
    "        ids.append(idx)\n",
    "\n",
    "    has_chirality = False\n",
    "\n",
    "    for i in range(n):\n",
    "        for j in range(i + 1, n):\n",
    "            if edges[i][j] == 1:\n",
    "                mol.AddBond(ids[i], ids[j], Chem.BondType.SINGLE)\n",
    "            elif edges[i][j] == 2:\n",
    "                mol.AddBond(ids[i], ids[j], Chem.BondType.DOUBLE)\n",
    "            elif edges[i][j] == 3:\n",
    "                mol.AddBond(ids[i], ids[j], Chem.BondType.TRIPLE)\n",
    "            elif edges[i][j] == 4:\n",
    "                mol.AddBond(ids[i], ids[j], Chem.BondType.AROMATIC)\n",
    "            elif edges[i][j] == 5:\n",
    "                mol.AddBond(ids[i], ids[j], Chem.BondType.SINGLE)\n",
    "                mol.GetBondBetweenAtoms(ids[i], ids[j]).SetBondDir(Chem.BondDir.BEGINDASH)\n",
    "                has_chirality = True\n",
    "            elif edges[i][j] == 6:\n",
    "                mol.AddBond(ids[i], ids[j], Chem.BondType.SINGLE)\n",
    "                mol.GetBondBetweenAtoms(ids[i], ids[j]).SetBondDir(Chem.BondDir.BEGINWEDGE)\n",
    "                has_chirality = True\n",
    "    \n",
    "    for i in range(n):\n",
    "        symbol = symbols[i]\n",
    "        if not symbol in EXPECTED_BONDS:\n",
    "            continue\n",
    "        \n",
    "        atom = mol.GetAtomWithIdx(i)\n",
    "        bond_orders = [BondTypeMap[bond.GetBondType()] for bond in atom.GetBonds()]\n",
    "        if not all(o == 1 for o in bond_orders):\n",
    "            continue                        # only override if all bonds are single\n",
    "        \n",
    "        expected_bonds = EXPECTED_BONDS[symbol]\n",
    "        if sum(bond_orders) <= expected_bonds:\n",
    "            continue                        # rdkit should be able to add H's\n",
    "        \n",
    "        neighbors = [bond.GetOtherAtomIdx(i) for bond in atom.GetBonds()]\n",
    "        bond_probs = {j: edges_prob[i][j][edges[i][j]] for j in neighbors}\n",
    "        sorted_probs = sorted(bond_probs.items(), key=lambda _tup: _tup[1], reverse=True)\n",
    "        print(f\"symbol: {symbol}, sorted probs: {sorted_probs}\")\n",
    "        \n",
    "        for j, prob in sorted_probs[expected_bonds:]:\n",
    "            mol.RemoveBond(i, j)\n",
    "            edges[i][j] = 0                 # clean up and override edges\n",
    "            edges[j][i] = 0\n",
    "        \n",
    "    pred_smiles = '<invalid>'\n",
    "\n",
    "    try:\n",
    "        if has_chirality:\n",
    "            mol = _verify_chirality(mol, coords, symbols, edges, debug)\n",
    "        # pred_smiles = Chem.MolToSmiles(mol, isomericSmiles=True, canonical=True)\n",
    "        pred_smiles = _expand_functional_group(mol, mappings)\n",
    "        success = True\n",
    "    except Exception as e:\n",
    "        if debug:\n",
    "            raise e\n",
    "        success = False\n",
    "\n",
    "    return pred_smiles, success"
   ]
  },
  {
   "cell_type": "code",
   "execution_count": 41,
   "id": "coastal-cheese",
   "metadata": {},
   "outputs": [
    {
     "data": {
      "text/html": [
       "<div>\n",
       "<style scoped>\n",
       "    .dataframe tbody tr th:only-of-type {\n",
       "        vertical-align: middle;\n",
       "    }\n",
       "\n",
       "    .dataframe tbody tr th {\n",
       "        vertical-align: top;\n",
       "    }\n",
       "\n",
       "    .dataframe thead th {\n",
       "        text-align: right;\n",
       "    }\n",
       "</style>\n",
       "<table border=\"1\" class=\"dataframe\">\n",
       "  <thead>\n",
       "    <tr style=\"text-align: right;\">\n",
       "      <th></th>\n",
       "      <th>image_id</th>\n",
       "      <th>SMILES</th>\n",
       "      <th>node_coords</th>\n",
       "      <th>node_symbols</th>\n",
       "      <th>edges_prob</th>\n",
       "      <th>edges</th>\n",
       "      <th>graph_SMILES</th>\n",
       "      <th>post_SMILES</th>\n",
       "    </tr>\n",
       "  </thead>\n",
       "  <tbody>\n",
       "    <tr>\n",
       "      <th>0</th>\n",
       "      <td>US20070117785A1_p0034_x0977_y2564_c00072</td>\n",
       "      <td>CC(=O)N1CCC2=C(C1)C(C1=CC=C(C(F)(F)F)C=C1)=NN2...</td>\n",
       "      <td>[[0.746,0.921],[0.698,0.889],[0.651,1.0],[0.68...</td>\n",
       "      <td>[\"C\",\"C\",\"O\",\"N\",\"C\",\"C\",\"C\",\"C\",\"C\",\"C\",\"C\",\"...</td>\n",
       "      <td>[[[1.0, 2.8564711485046246e-08, 7.287724433256...</td>\n",
       "      <td>[[0,1,0,0,0,0,0,0,0,0,0,0,0,0,0,0,0,0,0,0,0,0,...</td>\n",
       "      <td>CC(=O)N1CCC2=C(C1)C(C1=CC=C(C(F)(F)F)C=C1)=NN2...</td>\n",
       "      <td>CC(=O)N1CCc2c(c(-c3ccc(C(F)(F)F)cc3)nn2CC(O)CN...</td>\n",
       "    </tr>\n",
       "    <tr>\n",
       "      <th>1</th>\n",
       "      <td>US20050004369A1_p0017_x1399_y0692_c00023</td>\n",
       "      <td>C1C=CC2N(C3C=CC(C4C=CC(CO)=CC=4)=CC=3)C=CC=2C=1</td>\n",
       "      <td>[[0.0,0.19],[0.079,0.032],[0.175,0.19],[0.175,...</td>\n",
       "      <td>[\"C\",\"C\",\"C\",\"C\",\"N\",\"C\",\"C\",\"C\",\"C\",\"C\",\"C\",\"...</td>\n",
       "      <td>[[[0.9999997615814209, 1.8590182548905432e-07,...</td>\n",
       "      <td>[[0,1,0,0,0,0,0,0,0,0,0,0,0,0,0,0,0,0,0,0,0,0,...</td>\n",
       "      <td>OCC1=CC=C(C2=CC=C(N3C=CC4=C3C=CC=C4)C=C2)C=C1</td>\n",
       "      <td>OCc1ccc(-c2ccc(-n3ccc4ccccc43)cc2)cc1</td>\n",
       "    </tr>\n",
       "  </tbody>\n",
       "</table>\n",
       "</div>"
      ],
      "text/plain": [
       "                                   image_id  \\\n",
       "0  US20070117785A1_p0034_x0977_y2564_c00072   \n",
       "1  US20050004369A1_p0017_x1399_y0692_c00023   \n",
       "\n",
       "                                              SMILES  \\\n",
       "0  CC(=O)N1CCC2=C(C1)C(C1=CC=C(C(F)(F)F)C=C1)=NN2...   \n",
       "1    C1C=CC2N(C3C=CC(C4C=CC(CO)=CC=4)=CC=3)C=CC=2C=1   \n",
       "\n",
       "                                         node_coords  \\\n",
       "0  [[0.746,0.921],[0.698,0.889],[0.651,1.0],[0.68...   \n",
       "1  [[0.0,0.19],[0.079,0.032],[0.175,0.19],[0.175,...   \n",
       "\n",
       "                                        node_symbols  \\\n",
       "0  [\"C\",\"C\",\"O\",\"N\",\"C\",\"C\",\"C\",\"C\",\"C\",\"C\",\"C\",\"...   \n",
       "1  [\"C\",\"C\",\"C\",\"C\",\"N\",\"C\",\"C\",\"C\",\"C\",\"C\",\"C\",\"...   \n",
       "\n",
       "                                          edges_prob  \\\n",
       "0  [[[1.0, 2.8564711485046246e-08, 7.287724433256...   \n",
       "1  [[[0.9999997615814209, 1.8590182548905432e-07,...   \n",
       "\n",
       "                                               edges  \\\n",
       "0  [[0,1,0,0,0,0,0,0,0,0,0,0,0,0,0,0,0,0,0,0,0,0,...   \n",
       "1  [[0,1,0,0,0,0,0,0,0,0,0,0,0,0,0,0,0,0,0,0,0,0,...   \n",
       "\n",
       "                                        graph_SMILES  \\\n",
       "0  CC(=O)N1CCC2=C(C1)C(C1=CC=C(C(F)(F)F)C=C1)=NN2...   \n",
       "1      OCC1=CC=C(C2=CC=C(N3C=CC4=C3C=CC=C4)C=C2)C=C1   \n",
       "\n",
       "                                         post_SMILES  \n",
       "0  CC(=O)N1CCc2c(c(-c3ccc(C(F)(F)F)cc3)nn2CC(O)CN...  \n",
       "1              OCc1ccc(-c2ccc(-n3ccc4ccccc43)cc2)cc1  "
      ]
     },
     "execution_count": 41,
     "metadata": {},
     "output_type": "execute_result"
    }
   ],
   "source": [
    "fn = \"../prediction_CLEF.csv\"\n",
    "df = pd.read_csv(fn)\n",
    "df[:2]"
   ]
  },
  {
   "cell_type": "code",
   "execution_count": 78,
   "id": "rapid-pursuit",
   "metadata": {},
   "outputs": [
    {
     "name": "stderr",
     "output_type": "stream",
     "text": [
      " 38%|███▊      | 380/991 [00:04<00:07, 76.55it/s]"
     ]
    },
    {
     "name": "stdout",
     "output_type": "stream",
     "text": [
      "symbol: C, sorted probs: [(13, 0.9999995231628418), (40, 0.9999995231628418), (11, 0.9999985694885254), (81, 0.9032085537910461), (52, 0.5046385526657104)]\n",
      "symbol: N, sorted probs: [(19, 1.0), (21, 1.0), (31, 0.9999997615814209), (72, 0.5200088620185852)]\n",
      "symbol: N, sorted probs: [(45, 0.9999994039535522), (50, 0.9999992847442627), (53, 0.9999922513961792), (4, 0.8661325573921204)]\n"
     ]
    },
    {
     "name": "stderr",
     "output_type": "stream",
     "text": [
      " 51%|█████     | 506/991 [00:05<00:06, 79.89it/s]"
     ]
    },
    {
     "name": "stdout",
     "output_type": "stream",
     "text": [
      "symbol: N, sorted probs: [(42, 0.9999980926513672), (5, 0.9999947547912598), (3, 0.9999946355819702), (51, 0.8681014776229858)]\n",
      "symbol: C, sorted probs: [(8, 0.9999994039535522), (41, 0.9999988079071045), (5, 0.999967098236084), (55, 0.9989981055259705), (53, 0.8920459151268005)]\n",
      "symbol: O, sorted probs: [(38, 0.9999997615814209), (34, 0.9999991655349731), (32, 0.9999947547912598)]\n",
      "symbol: N, sorted probs: [(26, 0.9999555349349976), (28, 0.9999034404754639), (29, 0.9994499087333679), (30, 0.9975269436836243)]\n"
     ]
    },
    {
     "name": "stderr",
     "output_type": "stream",
     "text": [
      " 60%|█████▉    | 593/991 [00:06<00:04, 89.26it/s]"
     ]
    },
    {
     "name": "stdout",
     "output_type": "stream",
     "text": [
      "symbol: O, sorted probs: [(30, 1.0), (32, 0.9999997615814209), (36, 0.9999934434890747)]\n",
      "symbol: O, sorted probs: [(4, 0.999998927116394), (41, 0.9999988079071045), (2, 0.9999923706054688), (46, 0.9995842576026917)]\n",
      "symbol: C, sorted probs: [(7, 0.9999997615814209), (40, 0.9999972581863403), (48, 0.9999912977218628), (4, 0.9999557733535767), (46, 0.9966691136360168)]\n",
      "symbol: N, sorted probs: [(21, 0.9997959733009338), (23, 0.9996703863143921), (24, 0.9992868304252625), (25, 0.9536213874816895)]\n"
     ]
    },
    {
     "name": "stderr",
     "output_type": "stream",
     "text": [
      " 76%|███████▌  | 753/991 [00:08<00:02, 80.36it/s]"
     ]
    },
    {
     "name": "stdout",
     "output_type": "stream",
     "text": [
      "symbol: C, sorted probs: [(12, 0.9999996423721313), (45, 0.9999986886978149), (3, 0.9999972581863403), (9, 0.9999576807022095), (46, 0.9997028708457947)]\n",
      "symbol: N, sorted probs: [(26, 0.9999725818634033), (28, 0.9998464584350586), (29, 0.999377429485321), (30, 0.9976274371147156)]\n"
     ]
    },
    {
     "name": "stderr",
     "output_type": "stream",
     "text": [
      " 87%|████████▋ | 860/991 [00:09<00:01, 86.46it/s]"
     ]
    },
    {
     "name": "stdout",
     "output_type": "stream",
     "text": [
      "symbol: O, sorted probs: [(4, 0.9999908208847046), (2, 0.9999904632568359), (40, 0.9999839067459106), (45, 0.9977172613143921)]\n",
      "symbol: N, sorted probs: [(20, 0.99991774559021), (22, 0.9997897744178772), (24, 0.9994865655899048), (23, 0.9991710186004639)]\n"
     ]
    },
    {
     "name": "stderr",
     "output_type": "stream",
     "text": [
      "100%|██████████| 991/991 [00:11<00:00, 87.07it/s]\n"
     ]
    }
   ],
   "source": [
    "for i in tqdm(range(991)):\n",
    "# for i in [0]:\n",
    "    coords = np.asarray(eval(df.at[i, \"node_coords\"]))\n",
    "    symbols = eval(df.at[i, \"node_symbols\"])\n",
    "    edges_prob = np.asarray(eval(df.at[i, \"edges_prob\"]))\n",
    "    edges = np.asarray(eval(df.at[i, \"edges\"]))\n",
    "    _convert_graph_to_smiles(coords, symbols, edges, edges_prob, debug=False)"
   ]
  }
 ],
 "metadata": {
  "kernelspec": {
   "display_name": "Python 3 (ipykernel)",
   "language": "python",
   "name": "python3"
  },
  "language_info": {
   "codemirror_mode": {
    "name": "ipython",
    "version": 3
   },
   "file_extension": ".py",
   "mimetype": "text/x-python",
   "name": "python",
   "nbconvert_exporter": "python",
   "pygments_lexer": "ipython3",
   "version": "3.9.12"
  }
 },
 "nbformat": 4,
 "nbformat_minor": 5
}
