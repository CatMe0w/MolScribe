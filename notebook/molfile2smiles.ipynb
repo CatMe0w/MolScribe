{
 "cells": [
  {
   "cell_type": "code",
   "execution_count": 48,
   "id": "celtic-spyware",
   "metadata": {},
   "outputs": [],
   "source": [
    "import numpy as np\n",
    "import re\n",
    "from rdkit import Chem"
   ]
  },
  {
   "cell_type": "code",
   "execution_count": 115,
   "id": "indie-mortality",
   "metadata": {},
   "outputs": [],
   "source": [
    "def get_superatom(mol_file):\n",
    "    with open(mol_file) as f:\n",
    "        mol_data = f.read()\n",
    "    return [(int(i)-1, symb) for i, symb in re.findall(r'A\\s+(\\d+)\\s+(\\S+)\\s', mol_data)]\n",
    "\n",
    "def convert_mol_to_smiles(mol_file, debug=False):\n",
    "    try:\n",
    "        mol = Chem.MolFromMolFile(mol_file, sanitize=False)\n",
    "        print(Chem.MolToMolBlock(mol))\n",
    "        \n",
    "        smiles = Chem.MolToSmiles(mol)\n",
    "        atom_order = mol.GetProp('_smilesAtomOutputOrder')\n",
    "        atom_order = eval(atom_order)     # str -> List[int], since the Prop is a str\n",
    "        print(f\"Atom order in SMILES:\\n {atom_order}\")\n",
    "        \n",
    "        for i in atom_order:\n",
    "            print(mol.GetAtomWithIdx(i).GetSymbol(), end=\" \")\n",
    "        \n",
    "        reverse_map = np.argsort(atom_order)\n",
    "        print(f\"\\nReverse map:\\n{reverse_map}\\n\")\n",
    "        \n",
    "        with open(mol_file, \"r\") as f:\n",
    "            lines = f.readlines()\n",
    "        \n",
    "        coords = []\n",
    "        edges = {}\n",
    "        for i, line in enumerate(lines):\n",
    "            if line.endswith(\"V2000\\n\"):\n",
    "                tokens = line.split()\n",
    "                num_atoms = int(tokens[0])\n",
    "                num_bonds = int(tokens[1])\n",
    "                for atom_line in lines[i+1:i+1+num_atoms]:\n",
    "                    atom_tokens = atom_line.strip().split()\n",
    "                    coords.append([float(atom_tokens[0]), float(atom_tokens[1])])\n",
    "                for bond_line in lines[i+1+num_atoms:i+1+num_atoms+num_bonds]:\n",
    "                    bond_tokens = bond_line.strip().split()\n",
    "                    start, end, bond_type, stereo = [int(token) for token in bond_tokens[:4]]\n",
    "                    \n",
    "                    edges[(start - 1, end - 1)] = [bond_type, stereo]\n",
    "                break\n",
    "        coords = np.array(coords)\n",
    "        coords = coords[atom_order]\n",
    "        \n",
    "        edges = {(reverse_map[start], reverse_map[end]): v\n",
    "                for (start, end), v in edges.items()}\n",
    "        \n",
    "        if mol.GetNumAtoms() < 3 or mol.GetNumAtoms() > 100:\n",
    "            return None, None\n",
    "        superatoms = get_superatom(mol_file)\n",
    "        pseudo_smiles = smiles\n",
    "        if len(superatoms) > 0:\n",
    "            mappings = []\n",
    "            cnt = 1\n",
    "            mw = Chem.RWMol(mol)\n",
    "            for atom_idx, symb in superatoms:\n",
    "                atom = Chem.Atom(\"*\")\n",
    "                while f\"[{cnt}*]\" in pseudo_smiles:\n",
    "                    cnt += 1\n",
    "                atom.SetIsotope(cnt)\n",
    "                mw.ReplaceAtom(atom_idx, atom)\n",
    "                mappings.append((f\"[{cnt}*]\", f\"[{symb}]\"))\n",
    "                cnt += 1\n",
    "            pseudo_smiles = Chem.MolToSmiles(mw)\n",
    "            for placeholder, symb in mappings:\n",
    "                pseudo_smiles = pseudo_smiles.replace(placeholder, symb)\n",
    "        return smiles, pseudo_smiles, coords, edges\n",
    "    except Exception as e:\n",
    "        if debug:\n",
    "            raise e\n",
    "        return None, None, None, None"
   ]
  },
  {
   "cell_type": "code",
   "execution_count": 116,
   "id": "widespread-madonna",
   "metadata": {},
   "outputs": [
    {
     "name": "stdout",
     "output_type": "stream",
     "text": [
      "\n",
      "     RDKit          2D\n",
      "\n",
      " 22 21  0  0  0  0  0  0  0  0999 V2000\n",
      "   -1.8779   -5.2066    0.0000 N   0  0  0  0  0  0  0  0  0  0  0  0\n",
      "   -0.3756   -5.2066    0.0000 C   0  0  0  0  0  0  0  0  0  0  0  0\n",
      "   -3.0282   -6.5070    0.0000 C   0  0  0  0  0  0  0  0  0  0  0  0\n",
      "   -3.0282   -3.9108    0.0000 C   0  0  0  0  0  0  0  0  0  0  0  0\n",
      "    0.3756   -3.9061    0.0000 C   0  0  0  0  0  0  0  0  0  0  0  0\n",
      "   -0.3756   -2.6056    0.0000 N   0  0  0  0  0  0  0  0  0  0  0  0\n",
      "    0.3756   -1.3052    0.0000 C   0  0  0  0  0  0  0  0  0  0  0  0\n",
      "   -0.3756    0.0000    0.0000 C   0  0  0  0  0  0  0  0  0  0  0  0\n",
      "    0.3756    1.3005    0.0000 N   0  0  0  0  0  0  0  0  0  0  0  0\n",
      "    1.8779    1.3005    0.0000 C   0  0  0  0  0  0  0  0  0  0  0  0\n",
      "   -0.3756    2.6009    0.0000 C   0  0  0  0  0  0  0  0  0  0  0  0\n",
      "   -1.8779   -2.6056    0.0000 C   0  0  0  0  0  0  0  0  0  0  0  0\n",
      "    2.6291    0.0000    0.0000 C   0  0  0  0  0  0  0  0  0  0  0  0\n",
      "    1.8779   -1.3052    0.0000 O   0  0  0  0  0  0  0  0  0  0  0  0\n",
      "    4.1315    0.0000    0.0000 O   0  0  0  0  0  0  0  0  0  0  0  0\n",
      "    0.3756    3.9014    0.0000 C   0  0  0  0  0  0  0  0  0  0  0  0\n",
      "    1.8779    3.9014    0.0000 O   0  0  0  0  0  0  0  0  0  0  0  0\n",
      "   -0.3756    5.2019    0.0000 O   0  0  0  0  0  0  0  0  0  0  0  0\n",
      "    0.3756    6.5023    0.0000 *   0  0  0  0  0  0  0  0  0  0  0  0\n",
      "   -2.6291   -1.3052    0.0000 C   0  0  0  0  0  0  0  0  0  0  0  0\n",
      "   -4.1315   -1.3052    0.0000 O   0  0  0  0  0  0  0  0  0  0  0  0\n",
      "   -1.8779    0.0000    0.0000 O   0  0  0  0  0  0  0  0  0  0  0  0\n",
      "  1  2  1  0\n",
      "  1  3  1  0\n",
      "  1  4  1  0\n",
      "  2  5  1  0\n",
      "  5  6  1  0\n",
      "  6  7  1  0\n",
      "  7  8  1  0\n",
      "  8  9  1  0\n",
      "  9 10  1  0\n",
      "  9 11  1  0\n",
      "  6 12  1  0\n",
      " 10 13  1  0\n",
      " 13 14  2  0\n",
      " 13 15  1  0\n",
      " 11 16  1  0\n",
      " 16 17  2  0\n",
      " 16 18  1  0\n",
      " 18 19  1  0\n",
      " 12 20  1  0\n",
      " 20 21  2  0\n",
      " 20 22  1  0\n",
      "V   19 *\n",
      "A    3\n",
      "C2\n",
      "A    4\n",
      "C1\n",
      "M  END\n",
      "\n",
      "Atom order in SMILES:\n",
      " [18, 17, 15, 16, 10, 8, 7, 6, 5, 4, 1, 0, 2, 3, 11, 19, 20, 21, 9, 12, 13, 14]\n",
      "* O C O C N C C N C C N C C C C O O C C O O \n",
      "Reverse map:\n",
      "[11 10 12 13  9  8  7  6  5 18  4 14 19 20 21  2  3  1  0 15 16 17]\n",
      "\n"
     ]
    }
   ],
   "source": [
    "mol_file = \"../20020101/US06334995-20020101/US06334995-20020101-C00001.MOL\"\n",
    "smiles, pseudo_smiles, coords, edges = convert_mol_to_smiles(mol_file, debug=True)"
   ]
  },
  {
   "cell_type": "code",
   "execution_count": 117,
   "id": "medieval-dream",
   "metadata": {},
   "outputs": [
    {
     "data": {
      "text/plain": [
       "'*OC(=O)CN(CCN(CCN(C)C)CC(=O)O)CC(=O)O'"
      ]
     },
     "execution_count": 117,
     "metadata": {},
     "output_type": "execute_result"
    }
   ],
   "source": [
    "smiles"
   ]
  },
  {
   "cell_type": "code",
   "execution_count": 118,
   "id": "injured-kenya",
   "metadata": {},
   "outputs": [
    {
     "data": {
      "text/plain": [
       "'*OC(=O)CN(CCN(CCN([C2])[C1])CC(=O)O)CC(=O)O'"
      ]
     },
     "execution_count": 118,
     "metadata": {},
     "output_type": "execute_result"
    }
   ],
   "source": [
    "pseudo_smiles"
   ]
  },
  {
   "cell_type": "code",
   "execution_count": 119,
   "id": "correct-cisco",
   "metadata": {},
   "outputs": [
    {
     "data": {
      "text/plain": [
       "array([[ 0.3756,  6.5023],\n",
       "       [-0.3756,  5.2019],\n",
       "       [ 0.3756,  3.9014],\n",
       "       [ 1.8779,  3.9014],\n",
       "       [-0.3756,  2.6009],\n",
       "       [ 0.3756,  1.3005],\n",
       "       [-0.3756,  0.    ],\n",
       "       [ 0.3756, -1.3052],\n",
       "       [-0.3756, -2.6056],\n",
       "       [ 0.3756, -3.9061],\n",
       "       [-0.3756, -5.2066],\n",
       "       [-1.8779, -5.2066],\n",
       "       [-3.0282, -6.507 ],\n",
       "       [-3.0282, -3.9108],\n",
       "       [-1.8779, -2.6056],\n",
       "       [-2.6291, -1.3052],\n",
       "       [-4.1315, -1.3052],\n",
       "       [-1.8779,  0.    ],\n",
       "       [ 1.8779,  1.3005],\n",
       "       [ 2.6291,  0.    ],\n",
       "       [ 1.8779, -1.3052],\n",
       "       [ 4.1315,  0.    ]])"
      ]
     },
     "execution_count": 119,
     "metadata": {},
     "output_type": "execute_result"
    }
   ],
   "source": [
    "coords"
   ]
  },
  {
   "cell_type": "code",
   "execution_count": 120,
   "id": "genuine-hormone",
   "metadata": {},
   "outputs": [
    {
     "data": {
      "text/plain": [
       "{(11, 10): [1, 0],\n",
       " (11, 12): [1, 0],\n",
       " (11, 13): [1, 0],\n",
       " (10, 9): [1, 0],\n",
       " (9, 8): [1, 0],\n",
       " (8, 7): [1, 0],\n",
       " (7, 6): [1, 0],\n",
       " (6, 5): [1, 0],\n",
       " (5, 18): [1, 0],\n",
       " (5, 4): [1, 0],\n",
       " (8, 14): [1, 0],\n",
       " (18, 19): [1, 0],\n",
       " (19, 20): [2, 0],\n",
       " (19, 21): [1, 0],\n",
       " (4, 2): [1, 0],\n",
       " (2, 3): [2, 0],\n",
       " (2, 1): [1, 0],\n",
       " (1, 0): [1, 0],\n",
       " (14, 15): [1, 0],\n",
       " (15, 16): [2, 0],\n",
       " (15, 17): [1, 0]}"
      ]
     },
     "execution_count": 120,
     "metadata": {},
     "output_type": "execute_result"
    }
   ],
   "source": [
    "edges"
   ]
  },
  {
   "cell_type": "code",
   "execution_count": null,
   "id": "clean-annex",
   "metadata": {},
   "outputs": [],
   "source": []
  }
 ],
 "metadata": {
  "kernelspec": {
   "display_name": "bms",
   "language": "python",
   "name": "bms"
  },
  "language_info": {
   "codemirror_mode": {
    "name": "ipython",
    "version": 3
   },
   "file_extension": ".py",
   "mimetype": "text/x-python",
   "name": "python",
   "nbconvert_exporter": "python",
   "pygments_lexer": "ipython3",
   "version": "3.6.13"
  }
 },
 "nbformat": 4,
 "nbformat_minor": 5
}
