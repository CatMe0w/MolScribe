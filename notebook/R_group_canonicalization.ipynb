{
 "cells": [
  {
   "cell_type": "code",
   "execution_count": 137,
   "id": "2740c2f5",
   "metadata": {},
   "outputs": [],
   "source": [
    "from IPython.display import SVG\n",
    "from rdkit import Chem\n",
    "from rdkit.Chem import Draw\n",
    "from rdkit.Chem.Draw import MolDrawing, DrawingOptions"
   ]
  },
  {
   "cell_type": "code",
   "execution_count": 138,
   "id": "78235871",
   "metadata": {},
   "outputs": [],
   "source": [
    "reverse_substitutions = {\n",
    "    \"[NO2]\": \"[N+](=O)[O-]\",\n",
    "    \"[O2N]\": \"[N+](=O)[O-]\",\n",
    "    \"[CHO]\": \"[CH1](=O)\",\n",
    "    \"[OHC]\": \"[CH1](=O)\",\n",
    "    \"[CO2Et]\": \"[C](=O)OCC\",\n",
    "    \"[COOEt]\": \"[C](=O)OCC\",\n",
    "    \"[OAc]\": \"[O]C(=O)C\",\n",
    "    \"[NHAc]\": \"[NH]C(=O)C\",\n",
    "    \"[Ac]\": \"[C](=O)C\",\n",
    "    \"[OBz]\": \"[O]C(=O)c1ccccc1\",\n",
    "    \"[Bz]\": \"[C](=O)c1ccccc1\",\n",
    "    \"[OBn]\": \"[O]Cc1ccccc1\",\n",
    "    \"[Bn]\": \"[CH2]c1ccccc1\",\n",
    "    \"[NHBoc]\": \"[NH1]C(=O)OC(C)(C)C\",\n",
    "    \"[NBoc]\": \"[NH1]C(=O)OC(C)(C)C\",\n",
    "    \"[Boc]\": \"[C](=O)OC(C)(C)C\",\n",
    "    \"[Cbm]\": \"[C](=O)N\",\n",
    "    \"[Cbz]\": \"[C](=O)OCc1ccccc1\",       # ??\n",
    "    \"[Cy]\": \"[CH1]1CCCCC1\",\n",
    "    \"[Fmoc]\": \"[C](=O)OCC1c(cccc2)c2c3c1cccc3\",\n",
    "    \"[Mes]\": \"[c]1c(C)cc(C)cc(C)1\",\n",
    "    \"[OMs]\": \"[O]S(=O)(=O)C\",\n",
    "    \"[Ms]\": \"[S](=O)(=O)C\",\n",
    "    \"[Ph]\": \"[c]1ccccc1\",\n",
    "    \"[Py]\": \"[c]1ncccc1\",\n",
    "    \"[Suc]\": \"[C](=O)CCC(=O)O\",\n",
    "    \"[TBS]\": \"[Si](C)(C)C(C)(C)C\",\n",
    "    \"[TBZ]\": \"[C](=S)c1ccccc1\",\n",
    "    \"[OTf]\": \"[O]S(=O)(=O)C(F)(F)F\",\n",
    "    \"[Tf]\": \"[S](=O)(=O)C(F)(F)F\",\n",
    "    \"[TFA]\": \"[C](=O)C(F)(F)F\",\n",
    "    \"[TMS]\": \"[Si](C)(C)C\",\n",
    "    \"[Ts]\": \"[S](=O)(=O)c1ccc(C)cc1\",\n",
    "    \"[OMe]\": \"[O]C\",\n",
    "    \"[MeO]\": \"[O]C\",\n",
    "    \"[SMe]\": \"[S]C\",\n",
    "    \"[MeS]\": \"[S]C\",\n",
    "    \"[NMe]\": \"[NH]C\",\n",
    "    \"[MeN]\": \"[NH]C\",\n",
    "    \"[Me]\": \"[CH3]\",\n",
    "    \"[OEt]\": \"[O]CC\",\n",
    "    \"[EtO]\": \"[O]CC\",\n",
    "    \"[Et]\": \"[CH2]C\",\n",
    "    \"[Pr]\": \"[CH2]CC\",\n",
    "    \"[nPr]\": \"[CH2]CC\",\n",
    "    \"[Bu]\": \"[CH2]CCC\",\n",
    "    \"[nBu]\": \"[CH2]CCC\",\n",
    "    \"[iPr]\": \"[CH1](C)C\",\n",
    "    \"[iBu]\": \"[CH2]C(C)C\",\n",
    "    \"[OiBu]\": \"[O]CC(C)C\",\n",
    "    \"[OtBu]\": \"[O]C(C)(C)C\",\n",
    "    \"[tBu]\": \"[C](C)(C)C\",\n",
    "    \"[CF3]\": \"[C](F)(F)F\",\n",
    "    \"[F3C]\": \"[C](F)(F)F\",\n",
    "    \"[NCF3]\": \"[NH]C(F)(F)F\",\n",
    "    \"[CCl3]\": \"[C](Cl)(Cl)Cl\",\n",
    "    \"[CO2H]\": \"[C](=O)O\",\n",
    "    \"[COOH]\": \"[C](=O)O\",\n",
    "    \"[CN]\": \"[C]#N\",\n",
    "    \"[OCH3]\": \"[O]C\",\n",
    "    \"[SO3H]\": \"[S](=O)(=O)O\"\n",
    "}"
   ]
  },
  {
   "cell_type": "code",
   "execution_count": 139,
   "id": "5b55abc7",
   "metadata": {},
   "outputs": [],
   "source": [
    "R_groups = [\"[R]\", \"[R1]\", \"[R2]\", \"[R3]\", \"[R4]\", \"[R5]\"]\n",
    "placeholder_atoms = [\"[Ne]\", \"[Ar]\", \"[Kr]\", \"[Xe]\", \"[Rn]\", \"[Nd]\", \"[Yb]\", \"[At]\", \"[Fm]\", \"[Er]\"]"
   ]
  },
  {
   "cell_type": "code",
   "execution_count": 140,
   "id": "ff0c449e",
   "metadata": {},
   "outputs": [
    {
     "name": "stdout",
     "output_type": "stream",
     "text": [
      "{'[Ne]': '[Et]', '[Ar]': '[iBu]'}\n"
     ]
    },
    {
     "data": {
      "image/png": "[encoded data removed]",
      "text/plain": [
       "<IPython.core.display.Image object>"
      ]
     },
     "metadata": {},
     "output_type": "display_data"
    }
   ],
   "source": [
    "extracted_smi = \"[R1]OOCCOC1=NC=NC2=C1C=C([Et])N2CC1C=C([iBu])C=CC=1\"\n",
    "sub_smi = extracted_smi\n",
    "\n",
    "i = 0\n",
    "mappings = {}\n",
    "for k, v in reverse_substitutions.items():\n",
    "    while k in sub_smi:\n",
    "        placeholder_atom = placeholder_atoms[i]           # using random element as a placeholder to validify SMILES\n",
    "        sub_smi = sub_smi.replace(k, placeholder_atom, 1)\n",
    "        mappings[placeholder_atom] = k\n",
    "        i += 1\n",
    "\n",
    "for r in R_groups:\n",
    "    placeholder_atom = placeholder_atoms[i]\n",
    "    sub_smi = sub_smi.replace(r, placeholder_atom)        # no mapping needed for R groups\n",
    "\n",
    "m = Chem.MolFromSmiles(sub_smi)\n",
    "img = Draw.MolsToGridImage([m], subImgSize=(300, 300))\n",
    "print(mappings)\n",
    "display(img)"
   ]
  },
  {
   "cell_type": "code",
   "execution_count": 141,
   "id": "fc12a953",
   "metadata": {},
   "outputs": [
    {
     "name": "stdout",
     "output_type": "stream",
     "text": [
      "CCc1cc2c(OCCOO[Kr])ncnc2n1Cc1cccc(CC(C)C)c1\n"
     ]
    },
    {
     "data": {
      "image/png": "[encoded data removed]",
      "text/plain": [
       "<IPython.core.display.Image object>"
      ]
     },
     "metadata": {},
     "output_type": "display_data"
    }
   ],
   "source": [
    "mw = Chem.RWMol(m)     # convert to editable molecule\n",
    "\n",
    "for placeholder_atom, node in mappings.items():\n",
    "    for i, atom in enumerate(mw.GetAtoms()):\n",
    "        symbol = f\"[{atom.GetSymbol()}]\"\n",
    "        if symbol == placeholder_atom:\n",
    "            bond = atom.GetBonds()[0]                      # assuming R is singly bonded to the other atom\n",
    "            adjacent_idx = bond.GetOtherAtomIdx(i)         # getting the idx of the other atom\n",
    "            mw.RemoveAtom(i)\n",
    "\n",
    "            adjacent_atom = mw.GetAtomWithIdx(adjacent_idx)\n",
    "            adjacent_atom.SetNumRadicalElectrons(1)\n",
    "\n",
    "            sub_smi = mappings[symbol]\n",
    "            mR = Chem.MolFromSmiles(reverse_substitutions[sub_smi])\n",
    "            combo = Chem.CombineMols(mw, mR)               # combine two subgraphs into a single graph\n",
    "\n",
    "            bonding_atoms = []\n",
    "            for j, new_atom in enumerate(combo.GetAtoms()):\n",
    "                if new_atom.GetNumRadicalElectrons() == 1:\n",
    "                    new_atom.SetNumRadicalElectrons(0)     # reset radical electrons\n",
    "                    bonding_atoms.append(j)\n",
    "            assert len(bonding_atoms) == 2, bonding_atoms\n",
    "\n",
    "            mw = Chem.RWMol(combo)\n",
    "            mw.AddBond(bonding_atoms[0], bonding_atoms[1], order=Chem.rdchem.BondType.SINGLE)\n",
    "            break\n",
    "\n",
    "img = Draw.MolsToGridImage([mw], subImgSize=(300,300))\n",
    "print(Chem.MolToSmiles(mw))\n",
    "display(img)"
   ]
  }
 ],
 "metadata": {
  "kernelspec": {
   "display_name": "Python 3",
   "language": "python",
   "name": "python3"
  },
  "language_info": {
   "codemirror_mode": {
    "name": "ipython",
    "version": 3
   },
   "file_extension": ".py",
   "mimetype": "text/x-python",
   "name": "python",
   "nbconvert_exporter": "python",
   "pygments_lexer": "ipython3",
   "version": "3.8.11"
  }
 },
 "nbformat": 4,
 "nbformat_minor": 5
}
