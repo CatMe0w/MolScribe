{
 "cells": [
  {
   "cell_type": "markdown",
   "id": "3f63f3d7-ac93-4a4c-ae54-c5aaf72cfb81",
   "metadata": {},
   "source": [
    "# Compare examples\n",
    "\n",
    "Compare old model and new model by displaying the predictions the new model fixed and those the new model broke.\n",
    "There's also an option of only displaying predictions that contain \"new symbols\", i.e., tokens that aren't in the original vocab (`vocab_uspto.new.json`)."
   ]
  },
  {
   "cell_type": "code",
   "execution_count": 1,
   "id": "26a9f279-fa48-4451-9308-9acfacebf57b",
   "metadata": {
    "tags": []
   },
   "outputs": [],
   "source": [
    "%load_ext autoreload\n",
    "%autoreload 2\n",
    "import sys\n",
    "sys.path.append('../')"
   ]
  },
  {
   "cell_type": "code",
   "execution_count": 8,
   "id": "374316a6-bc0f-4f3e-84ec-003ec59569cd",
   "metadata": {},
   "outputs": [
    {
     "name": "stdout",
     "output_type": "stream",
     "text": [
      "46 47 47\n",
      "['[(]', '[)]', '[(]', '[)]', '[(]', '[)]', 'C', 'C', 'C', 'C', 'C', 'C', 'C', 'O', 'O', 'C', 'C', 'C', 'C', 'C', 'C', 'C', 'C', 'C', 'C', 'C', 'F', 'F', 'F', 'C', 'O', 'O', 'C', 'C', 'C', 'C', 'C', 'C', 'C', 'C', 'C', 'C', 'C', 'C', 'F', 'F', 'F']\n",
      "[[0.06349206349206349, 0.2698412698412698], [0.31746031746031744, 0.2698412698412698], [0.5873015873015873, 0.2698412698412698], [0.8412698412698413, 0.2698412698412698], [0.5873015873015873, 0.2698412698412698], [0.31746031746031744, 0.2698412698412698], [0.0, 0.2698412698412698], [0.1111111111111111, 0.2698412698412698], [0.25396825396825395, 0.2698412698412698], [0.6349206349206349, 0.2698412698412698], [0.7777777777777778, 0.2698412698412698], [1.0, 0.2698412698412698], [0.7777777777777778, 0.5079365079365079], [0.6825396825396826, 0.5873015873015873], [0.873015873015873, 0.5873015873015873], [0.8571428571428571, 0.6031746031746031], [0.7936507936507936, 0.7142857142857143], [0.7936507936507936, 0.9365079365079365], [0.6984126984126984, 1.0], [0.7619047619047619, 0.8253968253968254], [0.8571428571428571, 0.8888888888888888], [0.9523809523809523, 0.8253968253968254], [0.8888888888888888, 1.0], [0.9523809523809523, 0.6825396825396826], [0.7619047619047619, 0.6825396825396826], [0.7777777777777778, 0.14285714285714285], [0.6666666666666666, 0.14285714285714285], [0.7777777777777778, 0.0], [0.8888888888888888, 0.14285714285714285], [0.25396825396825395, 0.5238095238095238], [0.15873015873015872, 0.5873015873015873], [0.3492063492063492, 0.5873015873015873], [0.38095238095238093, 0.5873015873015873], [0.38095238095238093, 0.42857142857142855], [0.38095238095238093, 0.7301587301587301], [0.47619047619047616, 0.7936507936507936], [0.5714285714285714, 0.7301587301587301], [0.5079365079365079, 0.9047619047619048], [0.42857142857142855, 0.8412698412698413], [0.31746031746031744, 0.9047619047619048], [0.42857142857142855, 0.6190476190476191], [0.47619047619047616, 0.5079365079365079], [0.5714285714285714, 0.5873015873015873], [0.25396825396825395, 0.14285714285714285], [0.14285714285714285, 0.14285714285714285], [0.25396825396825395, 0.0], [0.36507936507936506, 0.14285714285714285]]\n",
      "[[0, 0, 0, 0, 0, 0, 0, 0, 0, 0, 0, 0, 0, 0, 0, 0, 0, 0, 0, 0, 0, 0, 0, 0, 0, 0, 0, 0, 0, 0, 0, 0, 0, 0, 0, 0, 0, 0, 0, 0, 0, 0, 0, 0, 0, 0, 0], [0, 0, 0, 0, 0, 0, 0, 0, 0, 0, 0, 0, 0, 0, 0, 0, 0, 0, 0, 0, 0, 0, 0, 0, 0, 0, 0, 0, 0, 0, 0, 0, 0, 0, 0, 0, 0, 0, 0, 0, 0, 0, 0, 0, 0, 0, 0], [0, 0, 0, 0, 0, 0, 0, 0, 0, 0, 0, 0, 0, 0, 0, 0, 0, 0, 0, 0, 0, 0, 0, 0, 0, 0, 0, 0, 0, 0, 0, 0, 0, 0, 0, 0, 0, 0, 0, 0, 0, 0, 0, 0, 0, 0, 0], [0, 0, 0, 0, 0, 0, 0, 0, 0, 0, 0, 0, 0, 0, 0, 0, 0, 0, 0, 0, 0, 0, 0, 0, 0, 0, 0, 0, 0, 0, 0, 0, 0, 0, 0, 0, 0, 0, 0, 0, 0, 0, 0, 0, 0, 0, 0], [0, 0, 0, 0, 0, 0, 0, 0, 0, 0, 0, 0, 0, 0, 0, 0, 0, 0, 0, 0, 0, 0, 0, 0, 0, 0, 0, 0, 0, 0, 0, 0, 0, 0, 0, 0, 0, 0, 0, 0, 0, 0, 0, 0, 0, 0, 0], [0, 0, 0, 0, 0, 0, 0, 0, 0, 0, 0, 0, 0, 0, 0, 0, 0, 0, 0, 0, 0, 0, 0, 0, 0, 0, 0, 0, 0, 0, 0, 0, 0, 0, 0, 0, 0, 0, 0, 0, 0, 0, 0, 0, 0, 0, 0], [0, 0, 0, 0, 0, 0, 0, 1, 0, 0, 0, 0, 0, 0, 0, 0, 0, 0, 0, 0, 0, 0, 0, 0, 0, 0, 0, 0, 0, 0, 0, 0, 0, 0, 0, 0, 0, 0, 0, 0, 0, 0, 0, 0, 0, 0, 0], [0, 0, 0, 0, 0, 0, 1, 0, 1, 0, 0, 0, 0, 0, 0, 0, 0, 0, 0, 0, 0, 0, 0, 0, 0, 0, 0, 0, 0, 0, 0, 0, 0, 0, 0, 0, 0, 0, 0, 0, 0, 0, 0, 0, 0, 0, 0], [0, 0, 0, 0, 0, 0, 0, 1, 0, 1, 0, 0, 0, 0, 0, 0, 0, 0, 0, 0, 0, 0, 0, 0, 0, 0, 0, 0, 0, 1, 0, 0, 0, 0, 0, 0, 0, 0, 0, 0, 0, 0, 0, 1, 0, 0, 0], [0, 0, 0, 0, 0, 0, 0, 0, 1, 0, 1, 0, 0, 0, 0, 0, 0, 0, 0, 0, 0, 0, 0, 0, 0, 0, 0, 0, 0, 0, 0, 0, 0, 0, 0, 0, 0, 0, 0, 0, 0, 0, 0, 0, 0, 0, 0], [0, 0, 0, 0, 0, 0, 0, 0, 0, 1, 0, 1, 1, 0, 0, 0, 0, 0, 0, 0, 0, 0, 0, 0, 0, 1, 0, 0, 0, 0, 0, 0, 0, 0, 0, 0, 0, 0, 0, 0, 0, 0, 0, 0, 0, 0, 0], [0, 0, 0, 0, 0, 0, 0, 0, 0, 0, 1, 0, 0, 0, 0, 0, 0, 0, 0, 0, 0, 0, 0, 0, 0, 0, 0, 0, 0, 0, 0, 0, 0, 0, 0, 0, 0, 0, 0, 0, 0, 0, 0, 0, 0, 0, 0], [0, 0, 0, 0, 0, 0, 0, 0, 0, 0, 1, 0, 0, 2, 1, 0, 0, 0, 0, 0, 0, 0, 0, 0, 0, 0, 0, 0, 0, 0, 0, 0, 0, 0, 0, 0, 0, 0, 0, 0, 0, 0, 0, 0, 0, 0, 0], [0, 0, 0, 0, 0, 0, 0, 0, 0, 0, 0, 0, 2, 0, 0, 0, 0, 0, 0, 0, 0, 0, 0, 0, 0, 0, 0, 0, 0, 0, 0, 0, 0, 0, 0, 0, 0, 0, 0, 0, 0, 0, 0, 0, 0, 0, 0], [0, 0, 0, 0, 0, 0, 0, 0, 0, 0, 0, 0, 1, 0, 0, 1, 0, 0, 0, 0, 0, 0, 0, 0, 0, 0, 0, 0, 0, 0, 0, 0, 0, 0, 0, 0, 0, 0, 0, 0, 0, 0, 0, 0, 0, 0, 0], [0, 0, 0, 0, 0, 0, 0, 0, 0, 0, 0, 0, 0, 0, 1, 0, 1, 0, 0, 0, 0, 0, 0, 1, 1, 0, 0, 0, 0, 0, 0, 0, 0, 0, 0, 0, 0, 0, 0, 0, 0, 0, 0, 0, 0, 0, 0], [0, 0, 0, 0, 0, 0, 0, 0, 0, 0, 0, 0, 0, 0, 0, 1, 0, 1, 0, 0, 0, 0, 0, 0, 0, 0, 0, 0, 0, 0, 0, 0, 0, 0, 0, 0, 0, 0, 0, 0, 0, 0, 0, 0, 0, 0, 0], [0, 0, 0, 0, 0, 0, 0, 0, 0, 0, 0, 0, 0, 0, 0, 0, 1, 0, 1, 0, 0, 0, 1, 0, 0, 0, 0, 0, 0, 0, 0, 0, 0, 0, 0, 0, 0, 0, 0, 0, 0, 0, 0, 0, 0, 0, 0], [0, 0, 0, 0, 0, 0, 0, 0, 0, 0, 0, 0, 0, 0, 0, 0, 0, 1, 0, 1, 0, 0, 0, 0, 0, 0, 0, 0, 0, 0, 0, 0, 0, 0, 0, 0, 0, 0, 0, 0, 0, 0, 0, 0, 0, 0, 0], [0, 0, 0, 0, 0, 0, 0, 0, 0, 0, 0, 0, 0, 0, 0, 0, 0, 0, 1, 0, 1, 0, 0, 0, 1, 0, 0, 0, 0, 0, 0, 0, 0, 0, 0, 0, 0, 0, 0, 0, 0, 0, 0, 0, 0, 0, 0], [0, 0, 0, 0, 0, 0, 0, 0, 0, 0, 0, 0, 0, 0, 0, 0, 0, 0, 0, 1, 0, 1, 0, 0, 0, 0, 0, 0, 0, 0, 0, 0, 0, 0, 0, 0, 0, 0, 0, 0, 0, 0, 0, 0, 0, 0, 0], [0, 0, 0, 0, 0, 0, 0, 0, 0, 0, 0, 0, 0, 0, 0, 0, 0, 0, 0, 0, 1, 0, 1, 1, 0, 0, 0, 0, 0, 0, 0, 0, 0, 0, 0, 0, 0, 0, 0, 0, 0, 0, 0, 0, 0, 0, 0], [0, 0, 0, 0, 0, 0, 0, 0, 0, 0, 0, 0, 0, 0, 0, 0, 0, 1, 0, 0, 0, 1, 0, 0, 0, 0, 0, 0, 0, 0, 0, 0, 0, 0, 0, 0, 0, 0, 0, 0, 0, 0, 0, 0, 0, 0, 0], [0, 0, 0, 0, 0, 0, 0, 0, 0, 0, 0, 0, 0, 0, 0, 1, 0, 0, 0, 0, 0, 1, 0, 0, 0, 0, 0, 0, 0, 0, 0, 0, 0, 0, 0, 0, 0, 0, 0, 0, 0, 0, 0, 0, 0, 0, 0], [0, 0, 0, 0, 0, 0, 0, 0, 0, 0, 0, 0, 0, 0, 0, 1, 0, 0, 0, 1, 0, 0, 0, 0, 0, 0, 0, 0, 0, 0, 0, 0, 0, 0, 0, 0, 0, 0, 0, 0, 0, 0, 0, 0, 0, 0, 0], [0, 0, 0, 0, 0, 0, 0, 0, 0, 0, 1, 0, 0, 0, 0, 0, 0, 0, 0, 0, 0, 0, 0, 0, 0, 0, 1, 1, 1, 0, 0, 0, 0, 0, 0, 0, 0, 0, 0, 0, 0, 0, 0, 0, 0, 0, 0], [0, 0, 0, 0, 0, 0, 0, 0, 0, 0, 0, 0, 0, 0, 0, 0, 0, 0, 0, 0, 0, 0, 0, 0, 0, 1, 0, 0, 0, 0, 0, 0, 0, 0, 0, 0, 0, 0, 0, 0, 0, 0, 0, 0, 0, 0, 0], [0, 0, 0, 0, 0, 0, 0, 0, 0, 0, 0, 0, 0, 0, 0, 0, 0, 0, 0, 0, 0, 0, 0, 0, 0, 1, 0, 0, 0, 0, 0, 0, 0, 0, 0, 0, 0, 0, 0, 0, 0, 0, 0, 0, 0, 0, 0], [0, 0, 0, 0, 0, 0, 0, 0, 0, 0, 0, 0, 0, 0, 0, 0, 0, 0, 0, 0, 0, 0, 0, 0, 0, 1, 0, 0, 0, 0, 0, 0, 0, 0, 0, 0, 0, 0, 0, 0, 0, 0, 0, 0, 0, 0, 0], [0, 0, 0, 0, 0, 0, 0, 0, 1, 0, 0, 0, 0, 0, 0, 0, 0, 0, 0, 0, 0, 0, 0, 0, 0, 0, 0, 0, 0, 0, 2, 1, 0, 0, 0, 0, 0, 0, 0, 0, 0, 0, 0, 0, 0, 0, 0], [0, 0, 0, 0, 0, 0, 0, 0, 0, 0, 0, 0, 0, 0, 0, 0, 0, 0, 0, 0, 0, 0, 0, 0, 0, 0, 0, 0, 0, 2, 0, 0, 0, 0, 0, 0, 0, 0, 0, 0, 0, 0, 0, 0, 0, 0, 0], [0, 0, 0, 0, 0, 0, 0, 0, 0, 0, 0, 0, 0, 0, 0, 0, 0, 0, 0, 0, 0, 0, 0, 0, 0, 0, 0, 0, 0, 1, 0, 0, 1, 0, 0, 0, 0, 0, 0, 0, 0, 0, 0, 0, 0, 0, 0], [0, 0, 0, 0, 0, 0, 0, 0, 0, 0, 0, 0, 0, 0, 0, 0, 0, 0, 0, 0, 0, 0, 0, 0, 0, 0, 0, 0, 0, 0, 0, 1, 0, 1, 1, 0, 0, 0, 0, 0, 0, 1, 0, 0, 0, 0, 0], [0, 0, 0, 0, 0, 0, 0, 0, 0, 0, 0, 0, 0, 0, 0, 0, 0, 0, 0, 0, 0, 0, 0, 0, 0, 0, 0, 0, 0, 0, 0, 0, 1, 0, 0, 0, 0, 0, 0, 0, 0, 0, 0, 0, 0, 0, 0], [0, 0, 0, 0, 0, 0, 0, 0, 0, 0, 0, 0, 0, 0, 0, 0, 0, 0, 0, 0, 0, 0, 0, 0, 0, 0, 0, 0, 0, 0, 0, 0, 1, 0, 0, 1, 0, 0, 0, 1, 0, 0, 0, 0, 0, 0, 0], [0, 0, 0, 0, 0, 0, 0, 0, 0, 0, 0, 0, 0, 0, 0, 0, 0, 0, 0, 0, 0, 0, 0, 0, 0, 0, 0, 0, 0, 0, 0, 0, 0, 0, 1, 0, 1, 0, 0, 0, 0, 0, 0, 0, 0, 0, 0], [0, 0, 0, 0, 0, 0, 0, 0, 0, 0, 0, 0, 0, 0, 0, 0, 0, 0, 0, 0, 0, 0, 0, 0, 0, 0, 0, 0, 0, 0, 0, 0, 0, 0, 0, 1, 0, 1, 0, 0, 0, 0, 1, 0, 0, 0, 0], [0, 0, 0, 0, 0, 0, 0, 0, 0, 0, 0, 0, 0, 0, 0, 0, 0, 0, 0, 0, 0, 0, 0, 0, 0, 0, 0, 0, 0, 0, 0, 0, 0, 0, 0, 0, 1, 0, 1, 0, 0, 0, 0, 0, 0, 0, 0], [0, 0, 0, 0, 0, 0, 0, 0, 0, 0, 0, 0, 0, 0, 0, 0, 0, 0, 0, 0, 0, 0, 0, 0, 0, 0, 0, 0, 0, 0, 0, 0, 0, 0, 0, 0, 0, 1, 0, 1, 1, 0, 0, 0, 0, 0, 0], [0, 0, 0, 0, 0, 0, 0, 0, 0, 0, 0, 0, 0, 0, 0, 0, 0, 0, 0, 0, 0, 0, 0, 0, 0, 0, 0, 0, 0, 0, 0, 0, 0, 0, 1, 0, 0, 0, 1, 0, 0, 0, 0, 0, 0, 0, 0], [0, 0, 0, 0, 0, 0, 0, 0, 0, 0, 0, 0, 0, 0, 0, 0, 0, 0, 0, 0, 0, 0, 0, 0, 0, 0, 0, 0, 0, 0, 0, 0, 0, 0, 0, 0, 0, 0, 1, 0, 0, 1, 0, 0, 0, 0, 0], [0, 0, 0, 0, 0, 0, 0, 0, 0, 0, 0, 0, 0, 0, 0, 0, 0, 0, 0, 0, 0, 0, 0, 0, 0, 0, 0, 0, 0, 0, 0, 0, 1, 0, 0, 0, 0, 0, 0, 0, 1, 0, 1, 0, 0, 0, 0], [0, 0, 0, 0, 0, 0, 0, 0, 0, 0, 0, 0, 0, 0, 0, 0, 0, 0, 0, 0, 0, 0, 0, 0, 0, 0, 0, 0, 0, 0, 0, 0, 0, 0, 0, 0, 1, 0, 0, 0, 0, 1, 0, 0, 0, 0, 0], [0, 0, 0, 0, 0, 0, 0, 0, 1, 0, 0, 0, 0, 0, 0, 0, 0, 0, 0, 0, 0, 0, 0, 0, 0, 0, 0, 0, 0, 0, 0, 0, 0, 0, 0, 0, 0, 0, 0, 0, 0, 0, 0, 0, 1, 1, 1], [0, 0, 0, 0, 0, 0, 0, 0, 0, 0, 0, 0, 0, 0, 0, 0, 0, 0, 0, 0, 0, 0, 0, 0, 0, 0, 0, 0, 0, 0, 0, 0, 0, 0, 0, 0, 0, 0, 0, 0, 0, 0, 0, 1, 0, 0, 0], [0, 0, 0, 0, 0, 0, 0, 0, 0, 0, 0, 0, 0, 0, 0, 0, 0, 0, 0, 0, 0, 0, 0, 0, 0, 0, 0, 0, 0, 0, 0, 0, 0, 0, 0, 0, 0, 0, 0, 0, 0, 0, 0, 1, 0, 0, 0], [0, 0, 0, 0, 0, 0, 0, 0, 0, 0, 0, 0, 0, 0, 0, 0, 0, 0, 0, 0, 0, 0, 0, 0, 0, 0, 0, 0, 0, 0, 0, 0, 0, 0, 0, 0, 0, 0, 0, 0, 0, 0, 0, 1, 0, 0, 0]]\n",
      "start get smiles\n",
      "1\n",
      "2\n",
      "2.1\n",
      "<rdkit.Chem.rdchem.Mol object at 0x7f03fff468e0>\n",
      "<rdkit.Chem.rdchem.Conformer object at 0x7f03fff461c0>\n",
      "2.2\n",
      "3\n",
      "4\n",
      "( 0 0 -1\n",
      "start get condensed\n",
      "(\n",
      "[[]]\n",
      "end get condensed  False\n",
      "done get smiles None\n",
      "start get smiles\n",
      "1\n",
      "2\n",
      "2.1\n",
      "<rdkit.Chem.rdchem.Mol object at 0x7f03fff468e0>\n",
      "<rdkit.Chem.rdchem.Conformer object at 0x7f03fff469a0>\n",
      "2.2\n",
      "3\n",
      "4\n",
      ") 0 0 -1\n",
      "start get condensed\n",
      ")\n",
      "[')']\n",
      "end get condensed  False\n",
      "done get smiles None\n",
      "start get smiles\n",
      "1\n",
      "2\n",
      "2.1\n",
      "<rdkit.Chem.rdchem.Mol object at 0x7f03fff468e0>\n",
      "<rdkit.Chem.rdchem.Conformer object at 0x7f03fff460a0>\n",
      "2.2\n",
      "3\n",
      "4\n",
      "( 0 0 -1\n",
      "start get condensed\n",
      "(\n",
      "[[]]\n",
      "end get condensed  False\n",
      "done get smiles None\n",
      "start get smiles\n",
      "1\n",
      "2\n",
      "2.1\n",
      "<rdkit.Chem.rdchem.Mol object at 0x7f03fff468e0>\n",
      "<rdkit.Chem.rdchem.Conformer object at 0x7f03fff461c0>\n",
      "2.2\n",
      "3\n",
      "4\n",
      ") 0 0 -1\n",
      "start get condensed\n",
      ")\n",
      "[')']\n",
      "end get condensed  False\n",
      "done get smiles None\n",
      "start get smiles\n",
      "1\n",
      "2\n",
      "2.1\n",
      "<rdkit.Chem.rdchem.Mol object at 0x7f03fff468e0>\n",
      "<rdkit.Chem.rdchem.Conformer object at 0x7f03fff469a0>\n",
      "2.2\n",
      "3\n",
      "4\n",
      "( 0 0 -1\n",
      "start get condensed\n",
      "(\n",
      "[[]]\n",
      "end get condensed  False\n",
      "done get smiles None\n",
      "start get smiles\n",
      "1\n",
      "2\n",
      "2.1\n",
      "<rdkit.Chem.rdchem.Mol object at 0x7f03fff468e0>\n",
      "<rdkit.Chem.rdchem.Conformer object at 0x7f03fff460a0>\n",
      "2.2\n",
      "3\n",
      "4\n",
      ") 0 0 -1\n",
      "start get condensed\n",
      ")\n",
      "[')']\n",
      "end get condensed  False\n",
      "done get smiles None\n"
     ]
    }
   ],
   "source": [
    "import pandas as pd\n",
    "import json\n",
    "import cv2\n",
    "import matplotlib.pyplot as plt\n",
    "import rdkit.Chem as Chem\n",
    "from bms.chemistry import _convert_graph_to_smiles\n",
    "\n",
    "with open(\"../bms/vocab_uspto_new.json\", 'r') as f:\n",
    "    old_vocab = json.load(f)\n",
    "\n",
    "gold_files = [#'../data/molbank/Img2Mol/CLEF.csv',\n",
    "              # '../data/molbank/Img2Mol/JPO.csv',\n",
    "              # '../data/molbank/Img2Mol/UOB.csv',\n",
    "              '../data/molbank/Img2Mol/USPTO.csv',\n",
    "              # '../data/molbank/Img2Mol/staker.csv',\n",
    "              # '../data/molbank/real-acs-evaluation/acs.csv'\n",
    "             ]\n",
    "pred_files = [#'../output/uspto/swin_base_aux_200k_new1_augdata1/prediction_CLEF.csv',\n",
    "              # '../output/uspto/swin_base_aux_200k_new1_augdata1/prediction_JPO.csv',\n",
    "              # '../output/uspto/swin_base_aux_200k_new1_augdata1/prediction_UOB.csv',\n",
    "              '../output/uspto/swin_base_aux_200k_new1_augdata1/prediction_USPTO.csv_debug',\n",
    "              # '../output/uspto/swin_base_aux_200k_new1_augdata1/prediction_staker.csv',\n",
    "              # '../output/uspto/swin_base_aux_200k_new1_augdata1/prediction_acs.csv'\n",
    "             ]\n",
    "\n",
    "for dataset_idx, (gold_file, pred_file) in enumerate(zip(gold_files, pred_files)):\n",
    "    gold_df = pd.read_csv(gold_file)\n",
    "    pred_df = pd.read_csv(pred_file)\n",
    "    assert all(gold_df.index == pred_df.index)\n",
    "    \n",
    "    # print(pred_df.head())\n",
    "    \n",
    "    for (i_g, row_g), (_, row_p) in zip(gold_df.iterrows(), pred_df.iterrows()):\n",
    "        if i_g == 46:\n",
    "            coords = eval(row_p['node_coords'])\n",
    "            symbols = eval(row_p['node_symbols'])\n",
    "            edges = eval(row_p['edges'])\n",
    "            print(i_g, len(symbols), len(edges))\n",
    "            print(symbols)\n",
    "            print(coords)\n",
    "            print(edges)\n",
    "            _convert_graph_to_smiles(coords, symbols, edges, debug=False)\n",
    "    \n",
    "    break\n"
   ]
  },
  {
   "cell_type": "code",
   "execution_count": 11,
   "id": "048b9ae4-4b85-4c30-8e9f-6cbe7654abf6",
   "metadata": {},
   "outputs": [
    {
     "data": {
      "text/plain": [
       "True"
      ]
     },
     "execution_count": 11,
     "metadata": {},
     "output_type": "execute_result"
    }
   ],
   "source": [
    "Chem.MolFromSmiles('CCCCC1=CC=C(C2N=C(N3C=C(C(=O)CCC(=O)O)C4=C3C=CC(Br)=C4)N=C3=C2C=C(C2=CC=CO2)C=C3)C=C1') is None"
   ]
  },
  {
   "cell_type": "code",
   "execution_count": 12,
   "id": "35b28325-43c4-4a3a-b6f0-ccf9e9737e02",
   "metadata": {},
   "outputs": [
    {
     "data": {
      "text/plain": [
       "True"
      ]
     },
     "execution_count": 12,
     "metadata": {},
     "output_type": "execute_result"
    }
   ],
   "source": [
    "'C' in new_symbols"
   ]
  },
  {
   "cell_type": "code",
   "execution_count": 13,
   "id": "a9f16061-ddae-4d65-ae02-ee3cd8e812d7",
   "metadata": {},
   "outputs": [
    {
     "name": "stdout",
     "output_type": "stream",
     "text": [
      "<rdkit.Chem.rdchem.Mol object at 0x7f1d087542e0>\n"
     ]
    }
   ],
   "source": [
    "print(Chem.MolFromSmiles(''))"
   ]
  },
  {
   "cell_type": "code",
   "execution_count": 6,
   "id": "8639f888-15b2-415c-ac40-0936cc42c22b",
   "metadata": {},
   "outputs": [
    {
     "name": "stderr",
     "output_type": "stream",
     "text": [
      "[autoreload of bms.chemistry failed: Traceback (most recent call last):\n",
      "  File \"/Mounts/rbg-storage1/users/urop/zli11010/miniconda3/envs/chemie/lib/python3.9/site-packages/IPython/extensions/autoreload.py\", line 257, in check\n",
      "    superreload(m, reload, self.old_objects)\n",
      "  File \"/Mounts/rbg-storage1/users/urop/zli11010/miniconda3/envs/chemie/lib/python3.9/site-packages/IPython/extensions/autoreload.py\", line 455, in superreload\n",
      "    module = reload(module)\n",
      "  File \"/Mounts/rbg-storage1/users/urop/zli11010/miniconda3/envs/chemie/lib/python3.9/importlib/__init__.py\", line 169, in reload\n",
      "    _bootstrap._exec(spec, module)\n",
      "  File \"<frozen importlib._bootstrap>\", line 613, in _exec\n",
      "  File \"<frozen importlib._bootstrap_external>\", line 846, in exec_module\n",
      "  File \"<frozen importlib._bootstrap_external>\", line 983, in get_code\n",
      "  File \"<frozen importlib._bootstrap_external>\", line 913, in source_to_code\n",
      "  File \"<frozen importlib._bootstrap>\", line 228, in _call_with_frames_removed\n",
      "  File \"/Mounts/rbg-storage1/users/urop/zli11010/bms/notebook/../bms/chemistry.py\", line 503\n",
      "    atom = None\n",
      "               ^\n",
      "IndentationError: unindent does not match any outer indentation level\n",
      "]\n"
     ]
    },
    {
     "data": {
      "text/plain": [
       "['Cl', 'C', 'C', '(', '=', 'O', ')', 'O', 'C']"
      ]
     },
     "execution_count": 6,
     "metadata": {},
     "output_type": "execute_result"
    }
   ],
   "source": [
    "from SmilesPE.pretokenizer import atomwise_tokenizer\n",
    "\n",
    "atomwise_tokenizer('ClCC(=O)OC')"
   ]
  },
  {
   "cell_type": "code",
   "execution_count": 9,
   "id": "e071d6b1-7cbd-4ff6-8c33-4f0dc3e51a6d",
   "metadata": {},
   "outputs": [
    {
     "name": "stdout",
     "output_type": "stream",
     "text": [
      "2022.03.3\n"
     ]
    }
   ],
   "source": [
    "import rdkit\n",
    "print(rdkit.__version__)"
   ]
  },
  {
   "cell_type": "code",
   "execution_count": null,
   "id": "fb513188-7798-4841-863f-1cba1988ed52",
   "metadata": {},
   "outputs": [],
   "source": []
  }
 ],
 "metadata": {
  "kernelspec": {
   "display_name": "Python 3 (ipykernel)",
   "language": "python",
   "name": "python3"
  },
  "language_info": {
   "codemirror_mode": {
    "name": "ipython",
    "version": 3
   },
   "file_extension": ".py",
   "mimetype": "text/x-python",
   "name": "python",
   "nbconvert_exporter": "python",
   "pygments_lexer": "ipython3",
   "version": "3.9.12"
  }
 },
 "nbformat": 4,
 "nbformat_minor": 5
}
