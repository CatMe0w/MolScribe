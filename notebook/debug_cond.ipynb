{
 "cells": [
  {
   "cell_type": "markdown",
   "id": "3f63f3d7-ac93-4a4c-ae54-c5aaf72cfb81",
   "metadata": {},
   "source": [
    "# Compare examples\n",
    "\n",
    "Compare old model and new model by displaying the predictions the new model fixed and those the new model broke.\n",
    "There's also an option of only displaying predictions that contain \"new symbols\", i.e., tokens that aren't in the original vocab (`vocab_uspto.new.json`)."
   ]
  },
  {
   "cell_type": "code",
   "execution_count": 1,
   "id": "26a9f279-fa48-4451-9308-9acfacebf57b",
   "metadata": {
    "tags": []
   },
   "outputs": [],
   "source": [
    "%load_ext autoreload\n",
    "%autoreload 2\n",
    "import sys\n",
    "sys.path.append('../')"
   ]
  },
  {
   "cell_type": "code",
   "execution_count": 3,
   "id": "374316a6-bc0f-4f3e-84ec-003ec59569cd",
   "metadata": {},
   "outputs": [
    {
     "name": "stdout",
     "output_type": "stream",
     "text": [
      "0\n",
      "1\n",
      "2\n",
      "3\n",
      "4\n",
      "5\n",
      "6\n",
      "7\n",
      "8\n",
      "9\n",
      "10\n",
      "11\n",
      "12\n",
      "13\n",
      "14\n",
      "15\n",
      "16\n",
      "17\n",
      "18\n",
      "19\n",
      "20\n",
      "21\n",
      "22\n",
      "23\n",
      "24\n",
      "25\n",
      "26\n",
      "27\n",
      "28\n",
      "29\n",
      "30\n",
      "31\n",
      "32\n",
      "33\n",
      "34\n",
      "35\n",
      "36\n",
      "37\n",
      "38\n",
      "39\n",
      "40\n",
      "41\n",
      "42\n",
      "43\n",
      "44\n",
      "45\n",
      "46\n",
      "47\n",
      "48\n",
      "49\n",
      "50\n",
      "51\n",
      "52\n",
      "53\n",
      "54\n",
      "55\n",
      "56\n",
      "57\n",
      "58\n",
      "59\n",
      "60\n",
      "61\n",
      "62\n",
      "63\n",
      "64\n",
      "65\n",
      "66\n",
      "67\n",
      "68\n",
      "69\n",
      "70\n",
      "71\n",
      "72\n",
      "73\n",
      "74\n",
      "75\n",
      "76\n",
      "77\n",
      "78\n",
      "79\n",
      "80\n",
      "81\n",
      "82\n",
      "83\n",
      "84\n",
      "85\n",
      "86\n",
      "87\n",
      "88\n",
      "89\n",
      "90\n"
     ]
    },
    {
     "ename": "AtomValenceException",
     "evalue": "Explicit valence for atom # 4 C, 5, is greater than permitted",
     "output_type": "error",
     "traceback": [
      "\u001b[0;31m---------------------------------------------------------------------------\u001b[0m",
      "\u001b[0;31mAtomValenceException\u001b[0m                      Traceback (most recent call last)",
      "\u001b[0;32m/tmp/ipykernel_93790/301804974.py\u001b[0m in \u001b[0;36m<module>\u001b[0;34m\u001b[0m\n\u001b[1;32m     40\u001b[0m         \u001b[0;31m# print(coords)\u001b[0m\u001b[0;34m\u001b[0m\u001b[0;34m\u001b[0m\u001b[0;34m\u001b[0m\u001b[0m\n\u001b[1;32m     41\u001b[0m         \u001b[0;31m# print(edges)\u001b[0m\u001b[0;34m\u001b[0m\u001b[0;34m\u001b[0m\u001b[0;34m\u001b[0m\u001b[0m\n\u001b[0;32m---> 42\u001b[0;31m         \u001b[0m_convert_graph_to_smiles\u001b[0m\u001b[0;34m(\u001b[0m\u001b[0mcoords\u001b[0m\u001b[0;34m,\u001b[0m \u001b[0msymbols\u001b[0m\u001b[0;34m,\u001b[0m \u001b[0medges\u001b[0m\u001b[0;34m,\u001b[0m \u001b[0mdebug\u001b[0m\u001b[0;34m=\u001b[0m\u001b[0;32mTrue\u001b[0m\u001b[0;34m)\u001b[0m\u001b[0;34m\u001b[0m\u001b[0;34m\u001b[0m\u001b[0m\n\u001b[0m\u001b[1;32m     43\u001b[0m \u001b[0;34m\u001b[0m\u001b[0m\n\u001b[1;32m     44\u001b[0m     \u001b[0;32mbreak\u001b[0m\u001b[0;34m\u001b[0m\u001b[0;34m\u001b[0m\u001b[0m\n",
      "\u001b[0;32m/Mounts/rbg-storage1/users/urop/zli11010/bms/bms/chemistry.py\u001b[0m in \u001b[0;36m_convert_graph_to_smiles\u001b[0;34m(coords, symbols, edges, image, debug)\u001b[0m\n\u001b[1;32m    847\u001b[0m     \u001b[0;32mexcept\u001b[0m \u001b[0mException\u001b[0m \u001b[0;32mas\u001b[0m \u001b[0me\u001b[0m\u001b[0;34m:\u001b[0m\u001b[0;34m\u001b[0m\u001b[0;34m\u001b[0m\u001b[0m\n\u001b[1;32m    848\u001b[0m         \u001b[0;32mif\u001b[0m \u001b[0mdebug\u001b[0m\u001b[0;34m:\u001b[0m\u001b[0;34m\u001b[0m\u001b[0;34m\u001b[0m\u001b[0m\n\u001b[0;32m--> 849\u001b[0;31m             \u001b[0;32mraise\u001b[0m \u001b[0me\u001b[0m\u001b[0;34m\u001b[0m\u001b[0;34m\u001b[0m\u001b[0m\n\u001b[0m\u001b[1;32m    850\u001b[0m         \u001b[0mpred_molblock\u001b[0m \u001b[0;34m=\u001b[0m \u001b[0;34m''\u001b[0m\u001b[0;34m\u001b[0m\u001b[0;34m\u001b[0m\u001b[0m\n\u001b[1;32m    851\u001b[0m         \u001b[0msuccess\u001b[0m \u001b[0;34m=\u001b[0m \u001b[0;32mFalse\u001b[0m\u001b[0;34m\u001b[0m\u001b[0;34m\u001b[0m\u001b[0m\n",
      "\u001b[0;32m/Mounts/rbg-storage1/users/urop/zli11010/bms/bms/chemistry.py\u001b[0m in \u001b[0;36m_convert_graph_to_smiles\u001b[0;34m(coords, symbols, edges, image, debug)\u001b[0m\n\u001b[1;32m    839\u001b[0m             \u001b[0mratio\u001b[0m \u001b[0;34m=\u001b[0m \u001b[0mwidth\u001b[0m \u001b[0;34m/\u001b[0m \u001b[0mheight\u001b[0m\u001b[0;34m\u001b[0m\u001b[0;34m\u001b[0m\u001b[0m\n\u001b[1;32m    840\u001b[0m             \u001b[0mcoords\u001b[0m \u001b[0;34m=\u001b[0m \u001b[0;34m[\u001b[0m\u001b[0;34m[\u001b[0m\u001b[0mx\u001b[0m \u001b[0;34m*\u001b[0m \u001b[0mratio\u001b[0m \u001b[0;34m*\u001b[0m \u001b[0;36m10\u001b[0m\u001b[0;34m,\u001b[0m \u001b[0my\u001b[0m \u001b[0;34m*\u001b[0m \u001b[0;36m10\u001b[0m\u001b[0;34m]\u001b[0m \u001b[0;32mfor\u001b[0m \u001b[0mx\u001b[0m\u001b[0;34m,\u001b[0m \u001b[0my\u001b[0m \u001b[0;32min\u001b[0m \u001b[0mcoords\u001b[0m\u001b[0;34m]\u001b[0m\u001b[0;34m\u001b[0m\u001b[0;34m\u001b[0m\u001b[0m\n\u001b[0;32m--> 841\u001b[0;31m         \u001b[0mmol\u001b[0m \u001b[0;34m=\u001b[0m \u001b[0m_verify_chirality\u001b[0m\u001b[0;34m(\u001b[0m\u001b[0mmol\u001b[0m\u001b[0;34m,\u001b[0m \u001b[0mcoords\u001b[0m\u001b[0;34m,\u001b[0m \u001b[0msymbols\u001b[0m\u001b[0;34m,\u001b[0m \u001b[0medges\u001b[0m\u001b[0;34m,\u001b[0m \u001b[0mdebug\u001b[0m\u001b[0;34m)\u001b[0m\u001b[0;34m\u001b[0m\u001b[0;34m\u001b[0m\u001b[0m\n\u001b[0m\u001b[1;32m    842\u001b[0m         \u001b[0;31m# molblock is obtained before expanding func groups, otherwise the expanded group won't have coordinates.\u001b[0m\u001b[0;34m\u001b[0m\u001b[0;34m\u001b[0m\u001b[0;34m\u001b[0m\u001b[0m\n\u001b[1;32m    843\u001b[0m         \u001b[0;31m# TODO: make sure molblock has the abbreviation information\u001b[0m\u001b[0;34m\u001b[0m\u001b[0;34m\u001b[0m\u001b[0;34m\u001b[0m\u001b[0m\n",
      "\u001b[0;32m/Mounts/rbg-storage1/users/urop/zli11010/bms/bms/chemistry.py\u001b[0m in \u001b[0;36m_verify_chirality\u001b[0;34m(mol, coords, symbols, edges, debug)\u001b[0m\n\u001b[1;32m    368\u001b[0m     \u001b[0;32mexcept\u001b[0m \u001b[0mException\u001b[0m \u001b[0;32mas\u001b[0m \u001b[0me\u001b[0m\u001b[0;34m:\u001b[0m\u001b[0;34m\u001b[0m\u001b[0;34m\u001b[0m\u001b[0m\n\u001b[1;32m    369\u001b[0m         \u001b[0;32mif\u001b[0m \u001b[0mdebug\u001b[0m\u001b[0;34m:\u001b[0m\u001b[0;34m\u001b[0m\u001b[0;34m\u001b[0m\u001b[0m\n\u001b[0;32m--> 370\u001b[0;31m             \u001b[0;32mraise\u001b[0m \u001b[0me\u001b[0m\u001b[0;34m\u001b[0m\u001b[0;34m\u001b[0m\u001b[0m\n\u001b[0m\u001b[1;32m    371\u001b[0m         \u001b[0;32mpass\u001b[0m\u001b[0;34m\u001b[0m\u001b[0;34m\u001b[0m\u001b[0m\n\u001b[1;32m    372\u001b[0m     \u001b[0;32mreturn\u001b[0m \u001b[0mmol\u001b[0m\u001b[0;34m\u001b[0m\u001b[0;34m\u001b[0m\u001b[0m\n",
      "\u001b[0;32m/Mounts/rbg-storage1/users/urop/zli11010/bms/bms/chemistry.py\u001b[0m in \u001b[0;36m_verify_chirality\u001b[0;34m(mol, coords, symbols, edges, debug)\u001b[0m\n\u001b[1;32m    306\u001b[0m         \u001b[0;31m# Make a temp mol to find chiral centers\u001b[0m\u001b[0;34m\u001b[0m\u001b[0;34m\u001b[0m\u001b[0;34m\u001b[0m\u001b[0m\n\u001b[1;32m    307\u001b[0m         \u001b[0mmol_tmp\u001b[0m \u001b[0;34m=\u001b[0m \u001b[0mmol\u001b[0m\u001b[0;34m.\u001b[0m\u001b[0mGetMol\u001b[0m\u001b[0;34m(\u001b[0m\u001b[0;34m)\u001b[0m\u001b[0;34m\u001b[0m\u001b[0;34m\u001b[0m\u001b[0m\n\u001b[0;32m--> 308\u001b[0;31m         \u001b[0mChem\u001b[0m\u001b[0;34m.\u001b[0m\u001b[0mSanitizeMol\u001b[0m\u001b[0;34m(\u001b[0m\u001b[0mmol_tmp\u001b[0m\u001b[0;34m)\u001b[0m\u001b[0;34m\u001b[0m\u001b[0;34m\u001b[0m\u001b[0m\n\u001b[0m\u001b[1;32m    309\u001b[0m \u001b[0;34m\u001b[0m\u001b[0m\n\u001b[1;32m    310\u001b[0m         chiral_centers = Chem.FindMolChiralCenters(\n",
      "\u001b[0;31mAtomValenceException\u001b[0m: Explicit valence for atom # 4 C, 5, is greater than permitted"
     ]
    }
   ],
   "source": [
    "import pandas as pd\n",
    "import json\n",
    "import cv2\n",
    "import matplotlib.pyplot as plt\n",
    "import rdkit.Chem as Chem\n",
    "from bms.chemistry import _convert_graph_to_smiles\n",
    "\n",
    "with open(\"../bms/vocab_uspto_new.json\", 'r') as f:\n",
    "    old_vocab = json.load(f)\n",
    "\n",
    "gold_files = [#'../data/molbank/Img2Mol/CLEF.csv',\n",
    "              # '../data/molbank/Img2Mol/JPO.csv',\n",
    "              # '../data/molbank/Img2Mol/UOB.csv',\n",
    "              # '../data/molbank/Img2Mol/USPTO.csv',\n",
    "              # '../data/molbank/Img2Mol/staker.csv',\n",
    "              '../data/molbank/real-acs-evaluation/acs.csv'\n",
    "             ]\n",
    "pred_files = [#'../output/uspto/swin_base_aux_200k_new1_augdata1/prediction_CLEF.csv',\n",
    "              # '../output/uspto/swin_base_aux_200k_new1_augdata1/prediction_JPO.csv',\n",
    "              # '../output/uspto/swin_base_aux_200k_new1_augdata1/prediction_UOB.csv',\n",
    "              # '../output/uspto/swin_base_aux_200k_new1_augdata1/prediction_USPTO.csv_debug',\n",
    "              # '../output/uspto/swin_base_aux_200k_new1_augdata1/prediction_staker.csv',\n",
    "              '../output/uspto/swin_base_aux_200k_new1_augdata1/prediction_acs.csv_refactor'\n",
    "             ]\n",
    "\n",
    "for dataset_idx, (gold_file, pred_file) in enumerate(zip(gold_files, pred_files)):\n",
    "    gold_df = pd.read_csv(gold_file)\n",
    "    pred_df = pd.read_csv(pred_file)\n",
    "    assert all(gold_df.index == pred_df.index)\n",
    "    \n",
    "    # print(pred_df.head())\n",
    "    \n",
    "    for (i_g, row_g), (_, row_p) in zip(gold_df.iterrows(), pred_df.iterrows()):\n",
    "        coords = eval(row_p['node_coords'])\n",
    "        symbols = eval(row_p['node_symbols'])\n",
    "        edges = eval(row_p['edges'])\n",
    "        print(i_g)\n",
    "        # print(i_g, len(symbols), len(edges))\n",
    "        # print(symbols)\n",
    "        # print(coords)\n",
    "        # print(edges)\n",
    "        _convert_graph_to_smiles(coords, symbols, edges, debug=True)\n",
    "    \n",
    "    break\n"
   ]
  },
  {
   "cell_type": "code",
   "execution_count": 26,
   "id": "048b9ae4-4b85-4c30-8e9f-6cbe7654abf6",
   "metadata": {},
   "outputs": [
    {
     "data": {
      "text/plain": [
       "True"
      ]
     },
     "execution_count": 26,
     "metadata": {},
     "output_type": "execute_result"
    }
   ],
   "source": [
    "Chem.MolFromSmiles('CCCCC1=CC=C(C2N=C(N3C=C(C(=O)CCC(=O)O)C4=C3C=CC(Br)=C4)N=C3=C2C=C(C2=CC=CO2)C=C3)C=C1') is None"
   ]
  },
  {
   "cell_type": "code",
   "execution_count": 12,
   "id": "35b28325-43c4-4a3a-b6f0-ccf9e9737e02",
   "metadata": {},
   "outputs": [
    {
     "data": {
      "text/plain": [
       "True"
      ]
     },
     "execution_count": 12,
     "metadata": {},
     "output_type": "execute_result"
    }
   ],
   "source": [
    "'C' in new_symbols"
   ]
  },
  {
   "cell_type": "code",
   "execution_count": 13,
   "id": "a9f16061-ddae-4d65-ae02-ee3cd8e812d7",
   "metadata": {},
   "outputs": [
    {
     "name": "stdout",
     "output_type": "stream",
     "text": [
      "<rdkit.Chem.rdchem.Mol object at 0x7f1d087542e0>\n"
     ]
    }
   ],
   "source": [
    "print(Chem.MolFromSmiles(''))"
   ]
  },
  {
   "cell_type": "code",
   "execution_count": 6,
   "id": "8639f888-15b2-415c-ac40-0936cc42c22b",
   "metadata": {},
   "outputs": [
    {
     "name": "stderr",
     "output_type": "stream",
     "text": [
      "[autoreload of bms.chemistry failed: Traceback (most recent call last):\n",
      "  File \"/Mounts/rbg-storage1/users/urop/zli11010/miniconda3/envs/chemie/lib/python3.9/site-packages/IPython/extensions/autoreload.py\", line 257, in check\n",
      "    superreload(m, reload, self.old_objects)\n",
      "  File \"/Mounts/rbg-storage1/users/urop/zli11010/miniconda3/envs/chemie/lib/python3.9/site-packages/IPython/extensions/autoreload.py\", line 455, in superreload\n",
      "    module = reload(module)\n",
      "  File \"/Mounts/rbg-storage1/users/urop/zli11010/miniconda3/envs/chemie/lib/python3.9/importlib/__init__.py\", line 169, in reload\n",
      "    _bootstrap._exec(spec, module)\n",
      "  File \"<frozen importlib._bootstrap>\", line 613, in _exec\n",
      "  File \"<frozen importlib._bootstrap_external>\", line 846, in exec_module\n",
      "  File \"<frozen importlib._bootstrap_external>\", line 983, in get_code\n",
      "  File \"<frozen importlib._bootstrap_external>\", line 913, in source_to_code\n",
      "  File \"<frozen importlib._bootstrap>\", line 228, in _call_with_frames_removed\n",
      "  File \"/Mounts/rbg-storage1/users/urop/zli11010/bms/notebook/../bms/chemistry.py\", line 503\n",
      "    atom = None\n",
      "               ^\n",
      "IndentationError: unindent does not match any outer indentation level\n",
      "]\n"
     ]
    },
    {
     "data": {
      "text/plain": [
       "['Cl', 'C', 'C', '(', '=', 'O', ')', 'O', 'C']"
      ]
     },
     "execution_count": 6,
     "metadata": {},
     "output_type": "execute_result"
    }
   ],
   "source": [
    "from SmilesPE.pretokenizer import atomwise_tokenizer\n",
    "\n",
    "atomwise_tokenizer('ClCC(=O)OC')"
   ]
  },
  {
   "cell_type": "code",
   "execution_count": 9,
   "id": "e071d6b1-7cbd-4ff6-8c33-4f0dc3e51a6d",
   "metadata": {},
   "outputs": [
    {
     "name": "stdout",
     "output_type": "stream",
     "text": [
      "2022.03.3\n"
     ]
    }
   ],
   "source": [
    "import rdkit\n",
    "print(rdkit.__version__)"
   ]
  },
  {
   "cell_type": "code",
   "execution_count": 11,
   "id": "fb513188-7798-4841-863f-1cba1988ed52",
   "metadata": {},
   "outputs": [
    {
     "data": {
      "text/plain": [
       "'3.9.12 (main, Jun  1 2022, 11:38:51) \\n[GCC 7.5.0]'"
      ]
     },
     "execution_count": 11,
     "metadata": {},
     "output_type": "execute_result"
    }
   ],
   "source": [
    "import sys\n",
    "sys.version"
   ]
  },
  {
   "cell_type": "code",
   "execution_count": null,
   "id": "3072b741-a735-4722-9b14-9ee45fed525f",
   "metadata": {},
   "outputs": [],
   "source": []
  }
 ],
 "metadata": {
  "kernelspec": {
   "display_name": "Python 3 (ipykernel)",
   "language": "python",
   "name": "python3"
  },
  "language_info": {
   "codemirror_mode": {
    "name": "ipython",
    "version": 3
   },
   "file_extension": ".py",
   "mimetype": "text/x-python",
   "name": "python",
   "nbconvert_exporter": "python",
   "pygments_lexer": "ipython3",
   "version": "3.7.13"
  }
 },
 "nbformat": 4,
 "nbformat_minor": 5
}
