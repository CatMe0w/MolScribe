{
 "cells": [
  {
   "cell_type": "markdown",
   "id": "23af4567-36af-4ebe-9545-ffa0b5196bc0",
   "metadata": {},
   "source": [
    "# Functional groups\n",
    "\n",
    "Look at specific examples with unseen functional groups or condensed formulas.\n",
    "\n",
    "(The last few code blocks were used to test the functions used to expand condensed formulas.)"
   ]
  },
  {
   "cell_type": "code",
   "execution_count": 106,
   "id": "f2b653f3-a7b0-4431-8b8e-a07096bac43f",
   "metadata": {},
   "outputs": [
    {
     "name": "stdout",
     "output_type": "stream",
     "text": [
      "The autoreload extension is already loaded. To reload it, use:\n",
      "  %reload_ext autoreload\n"
     ]
    }
   ],
   "source": [
    "%load_ext autoreload\n",
    "%autoreload 2\n",
    "import sys\n",
    "sys.path.append('../')"
   ]
  },
  {
   "cell_type": "code",
   "execution_count": 205,
   "id": "6d6497ca-297b-4fce-ace7-a9d6718648ef",
   "metadata": {},
   "outputs": [
    {
     "name": "stdout",
     "output_type": "stream",
     "text": [
      "[[0.365, 0.0], [0.079, 0.0], [0.0, 0.0], [0.127, 0.0], [0.317, 0.0], [0.444, 0.0], [0.381, 0.302], [0.317, 0.587], [0.508, 0.302], [0.619, 0.302], [0.587, 0.619], [0.667, 0.873], [0.746, 0.556], [0.746, 0.222], [0.841, 0.476], [0.968, 0.476], [1.0, 0.794], [0.905, 1.0], [0.794, 0.794]]\n",
      "['[)]', '[(]', 'C', 'C', 'C', 'C', 'C', 'O', 'N', 'C', 'C', 'C', 'C', 'C', 'C', 'C', 'C', 'C', 'C']\n",
      "[[0, 0, 0, 0, 0, 0, 0, 0, 0, 0, 0, 0, 0, 0, 0, 0, 0, 0, 0], [0, 0, 0, 0, 0, 0, 0, 0, 0, 0, 0, 0, 0, 0, 0, 0, 0, 0, 0], [0, 0, 0, 1, 0, 0, 0, 0, 0, 0, 0, 0, 0, 0, 0, 0, 0, 0, 0], [0, 0, 1, 0, 1, 0, 0, 0, 0, 0, 0, 0, 0, 0, 0, 0, 0, 0, 0], [0, 0, 0, 1, 0, 1, 1, 0, 0, 0, 0, 0, 0, 0, 0, 0, 0, 0, 0], [0, 0, 0, 0, 1, 0, 0, 0, 0, 0, 0, 0, 0, 0, 0, 0, 0, 0, 0], [0, 0, 0, 0, 1, 0, 0, 2, 1, 0, 0, 0, 0, 0, 0, 0, 0, 0, 0], [0, 0, 0, 0, 0, 0, 2, 0, 0, 0, 0, 0, 0, 0, 0, 0, 0, 0, 0], [0, 0, 0, 0, 0, 0, 1, 0, 0, 1, 0, 0, 0, 0, 0, 0, 0, 0, 0], [0, 0, 0, 0, 0, 0, 0, 0, 1, 0, 1, 0, 0, 1, 0, 0, 0, 0, 0], [0, 0, 0, 0, 0, 0, 0, 0, 0, 1, 0, 1, 0, 0, 0, 0, 0, 0, 0], [0, 0, 0, 0, 0, 0, 0, 0, 0, 0, 1, 0, 1, 0, 0, 0, 0, 0, 1], [0, 0, 0, 0, 0, 0, 0, 0, 0, 0, 0, 1, 0, 1, 0, 0, 0, 0, 0], [0, 0, 0, 0, 0, 0, 0, 0, 0, 1, 0, 0, 1, 0, 1, 0, 0, 0, 0], [0, 0, 0, 0, 0, 0, 0, 0, 0, 0, 0, 0, 0, 1, 0, 1, 0, 0, 1], [0, 0, 0, 0, 0, 0, 0, 0, 0, 0, 0, 0, 0, 0, 1, 0, 1, 0, 0], [0, 0, 0, 0, 0, 0, 0, 0, 0, 0, 0, 0, 0, 0, 0, 1, 0, 1, 0], [0, 0, 0, 0, 0, 0, 0, 0, 0, 0, 0, 0, 0, 0, 0, 0, 1, 0, 1], [0, 0, 0, 0, 0, 0, 0, 0, 0, 0, 0, 1, 0, 0, 1, 0, 0, 1, 0]]\n"
     ]
    },
    {
     "data": {
      "text/plain": [
       "[]"
      ]
     },
     "execution_count": 205,
     "metadata": {},
     "output_type": "execute_result"
    },
    {
     "data": {
      "image/png": "[encoded data removed]",
      "text/plain": [
       "<Figure size 432x288 with 1 Axes>"
      ]
     },
     "metadata": {
      "needs_background": "light"
     },
     "output_type": "display_data"
    }
   ],
   "source": [
    "from rdkit import Chem\n",
    "import pandas as pd\n",
    "import cv2\n",
    "import matplotlib.pyplot as plt\n",
    "\n",
    "gold_file = '../data/molbank/Img2Mol/USPTO.csv'\n",
    "pred_file = '../output/uspto/swin_base_aux_200k_new1/prediction_USPTO.csv'\n",
    "idx = 480\n",
    "# gold_file = '../data/molbank/Img2Mol/CLEF.csv'\n",
    "# pred_file = '../output/uspto/swin_base_aux_200k_new1/prediction_CLEF.csv'\n",
    "# idx = 871\n",
    "# gold_file = '../data/molbank/Img2Mol/JPO.csv'\n",
    "# pred_file = '../output/uspto/swin_base_aux_200k_new1/prediction_JPO.csv'\n",
    "# idx = 217\n",
    "# gold_file = '../data/molbank/Img2Mol/staker.csv'\n",
    "# pred_file = '../output/uspto/swin_base_aux_200k_new1/prediction_staker.csv'\n",
    "# idx = 18500\n",
    "# idx = 27984\n",
    "# idx = 32444\n",
    "pred_df = pd.read_csv(pred_file)\n",
    "gold_df = pd.read_csv(gold_file)\n",
    "pred_row = pred_df.iloc[idx]\n",
    "coords, symbols, edges = eval(pred_row['node_coords']), eval(pred_row['node_symbols']), eval(pred_row['edges'])\n",
    "# symbols[2] = '[C10H29]'\n",
    "print(coords)\n",
    "print(symbols)\n",
    "print(edges)\n",
    "path = '../' + gold_df.iloc[idx]['file_path']\n",
    "img = cv2.imread(path)\n",
    "plt.imshow(img)\n",
    "plt.plot()"
   ]
  },
  {
   "cell_type": "code",
   "execution_count": 220,
   "id": "46b2aa17-f277-4a62-bcfd-e1eaa2687c26",
   "metadata": {},
   "outputs": [
    {
     "name": "stdout",
     "output_type": "stream",
     "text": [
      "[)].[(].CCC(C)C(=O)NC1CC2CC1C1CCCC21\n"
     ]
    },
    {
     "data": {
      "text/plain": [
       "('C.C.CCC(C)C(=O)NC1CC2CC1C1CCCC21',\n",
       " '',\n",
       " <rdkit.Chem.rdchem.Mol at 0x7f6d4cba4820>)"
      ]
     },
     "execution_count": 220,
     "metadata": {},
     "output_type": "execute_result"
    }
   ],
   "source": [
    "from bms.chemistry import _convert_graph_to_smiles, _postprocess_smiles\n",
    "\n",
    "# _convert_graph_to_smiles(coords, symbols, edges, debug=True)\n",
    "# print(pred_row)\n",
    "print(pred_row['SMILES'])\n",
    "_postprocess_smiles(pred_row['SMILES'], coords, symbols, edges, debug=True)"
   ]
  },
  {
   "cell_type": "code",
   "execution_count": 203,
   "id": "4f53053c-6577-41fc-9177-fa1831ba6ec4",
   "metadata": {},
   "outputs": [
    {
     "name": "stdout",
     "output_type": "stream",
     "text": [
      "[Ha]\n",
      "False\n",
      "[CHa]\n",
      "False\n",
      "[CHa]\n",
      "False\n",
      "LEN 7\n",
      "0 0 [C] C \n",
      "1 1 [Ha] C [Ha]\n",
      "2 2 [CHa] C [CHa]\n",
      "3 3 [C] C \n",
      "4 4 [CHa] C [CHa]\n",
      "5 5 O O \n",
      "6 6 O O \n",
      "CC(=O)CC(C)=O\n"
     ]
    },
    {
     "data": {
      "image/png": "[encoded data removed]",
      "text/plain": [
       "<rdkit.Chem.rdchem.Mol at 0x7f6d4ca64040>"
      ]
     },
     "execution_count": 203,
     "metadata": {},
     "output_type": "execute_result"
    }
   ],
   "source": [
    "from bms.chemistry import _verify_chirality, _condensed_formula_to_smiles\n",
    "from bms.constants import RGROUP_SYMBOLS, ABBREVIATIONS\n",
    "\n",
    "mol = Chem.RWMol()\n",
    "n = len(symbols)\n",
    "ids = []\n",
    "symbol_to_placeholder = {}\n",
    "PLACEHOLDER_BASE = len(RGROUP_SYMBOLS)\n",
    "mappings = []\n",
    "for i in range(n):\n",
    "    symbol = symbols[i]\n",
    "    if symbol[0] == '[':\n",
    "        symbol = symbol[1:-1]\n",
    "    if symbol in RGROUP_SYMBOLS:\n",
    "        atom = Chem.Atom(\"*\")\n",
    "        if symbol[0] == 'R' and symbol[1:].isdigit():\n",
    "            atom.SetIsotope(RGROUP_SYMBOLS.index(symbol))\n",
    "        Chem.SetAtomAlias(atom, symbol)\n",
    "    else:\n",
    "        try:\n",
    "            atom = Chem.AtomFromSmiles(symbols[i])\n",
    "            atom.SetChiralTag(Chem.rdchem.ChiralType.CHI_UNSPECIFIED)\n",
    "        except:\n",
    "            print(symbols[i])\n",
    "            if symbol in ABBREVIATIONS:\n",
    "                sub_smiles = ABBREVIATIONS[symbol].smiles\n",
    "                success = True\n",
    "                bonds_left = 0\n",
    "                last_idx = 0\n",
    "                direction = None\n",
    "            else:\n",
    "                num_bonds = sum(edges[i])\n",
    "                sub_smiles, bonds_left, last_idx, direction, success = _condensed_formula_to_smiles(symbol, num_bonds)\n",
    "                if not sub_smiles or Chem.MolFromSmiles(sub_smiles) is None:\n",
    "                    success = False\n",
    "            print(success)\n",
    "            if success:\n",
    "                if symbol not in symbol_to_placeholder:\n",
    "                    j = PLACEHOLDER_BASE + len(symbol_to_placeholder) + 1\n",
    "                    placeholder = f\"[{j}*]\"\n",
    "                    symbol_to_placeholder[symbol] = placeholder\n",
    "                else:\n",
    "                    placeholder = symbol_to_placeholder[symbol]\n",
    "                mappings.append((symbol, None, sub_smiles, bonds_left, last_idx, direction))\n",
    "                atom = Chem.Atom(\"*\")\n",
    "                # atom.SetIsotope(int(placeholder[1:-2]))\n",
    "                Chem.SetAtomAlias(atom, symbol)\n",
    "            else:\n",
    "                atom = Chem.Atom(\"C\")\n",
    "                Chem.SetAtomAlias(atom, symbols[i])\n",
    "            \n",
    "    idx = mol.AddAtom(atom)\n",
    "    assert idx == i\n",
    "    ids.append(idx)\n",
    "\n",
    "has_chirality = False\n",
    "\n",
    "for i in range(n):\n",
    "    for j in range(i + 1, n):\n",
    "        if edges[i][j] == 1:\n",
    "            mol.AddBond(ids[i], ids[j], Chem.BondType.SINGLE)\n",
    "        elif edges[i][j] == 2:\n",
    "            mol.AddBond(ids[i], ids[j], Chem.BondType.DOUBLE)\n",
    "        elif edges[i][j] == 3:\n",
    "            mol.AddBond(ids[i], ids[j], Chem.BondType.TRIPLE)\n",
    "        elif edges[i][j] == 4:\n",
    "            mol.AddBond(ids[i], ids[j], Chem.BondType.AROMATIC)\n",
    "        elif edges[i][j] == 5:\n",
    "            mol.AddBond(ids[i], ids[j], Chem.BondType.SINGLE)\n",
    "            mol.GetBondBetweenAtoms(ids[i], ids[j]).SetBondDir(Chem.BondDir.BEGINWEDGE)\n",
    "            has_chirality = True\n",
    "        elif edges[i][j] == 6:\n",
    "            mol.AddBond(ids[i], ids[j], Chem.BondType.SINGLE)\n",
    "            mol.GetBondBetweenAtoms(ids[i], ids[j]).SetBondDir(Chem.BondDir.BEGINDASH)\n",
    "            has_chirality = True\n",
    "\n",
    "print(\"LEN\", n)\n",
    "for i in range(n):\n",
    "    print(i, ids[i], symbols[i], mol.GetAtomWithIdx(i).GetSymbol(), Chem.GetAtomAlias(mol.GetAtomWithIdx(i)))\n",
    "\n",
    "pred_smiles = '<invalid>'\n",
    "\n",
    "mol = _verify_chirality(mol, coords, symbols, edges, True)\n",
    "# molblock is obtained before expanding functional groups. Otherwise the expanded substructure won't have\n",
    "# coordinates.\n",
    "pred_molblock = Chem.MolToMolBlock(mol)\n",
    "\n",
    "BOND_TYPES = {1: Chem.rdchem.BondType.SINGLE, 2: Chem.rdchem.BondType.DOUBLE, 3: Chem.rdchem.BondType.TRIPLE}\n",
    "molblock=False\n",
    "if molblock:\n",
    "    Chem.SanitizeMol(mol)\n",
    "    AllChem.EmbedMolecule(mol)\n",
    "mw = Chem.RWMol(mol)\n",
    "for i, atom in enumerate(mw.GetAtoms()):  # reset radical electrons\n",
    "    atom.SetNumRadicalElectrons(0)\n",
    "# for placeholder_atom, sub_smiles in mappings:\n",
    "#     isotope = int(placeholder_atom[1:-2])\n",
    "for symbol, isotope, sub_smiles, bonds_left, last_idx, direction in mappings:\n",
    "    print(\"BL\", bonds_left)\n",
    "    for i, atom in enumerate(mw.GetAtoms()):\n",
    "        if atom.GetSymbol() == '*' and (Chem.GetAtomAlias(atom) == symbol or atom.GetIsotope() == isotope):\n",
    "            bonds = atom.GetBonds()\n",
    "            adjacent_indices = [bond.GetOtherAtomIdx(i) for bond in bonds]\n",
    "            for adjacent_idx in adjacent_indices:\n",
    "                mw.RemoveBond(i, adjacent_idx)\n",
    "\n",
    "            adjacent_atoms = [mw.GetAtomWithIdx(adjacent_idx) for adjacent_idx in adjacent_indices]\n",
    "            for adjacent_atom, bond in zip(adjacent_atoms, bonds):\n",
    "                # print(adjacent_atom.GetSymbol(), bond.GetBondTypeAsDouble())\n",
    "                adjacent_atom.SetNumRadicalElectrons(int(bond.GetBondTypeAsDouble()))\n",
    "\n",
    "            print(\"SUB SMILES:\", sub_smiles)\n",
    "            bonding_atoms_R = [mw.GetNumAtoms()]\n",
    "            for j, new_atom in enumerate(mR.GetAtoms()):\n",
    "                if j == 0:\n",
    "                    if j == last_idx:\n",
    "                        new_atom.SetNumRadicalElectrons(len(bonds))\n",
    "                    else:\n",
    "                        new_atom.SetNumRadicalElectrons(len(bonds) - bonds_left)\n",
    "                elif j == last_idx:\n",
    "                    new_atom.SetNumRadicalElectrons(bonds_left)\n",
    "                    if bonds_left:\n",
    "                        bonding_atoms_R.append(mw.GetNumAtoms() + j)\n",
    "                else:\n",
    "                    new_atom.SetNumRadicalElectrons(0)\n",
    "                print(new_atom.GetIdx(), new_atom.GetNumRadicalElectrons())\n",
    "            \n",
    "            bonding_atoms_w = []\n",
    "            for j, new_atom in enumerate(mw.GetAtoms()):\n",
    "                if new_atom.GetNumRadicalElectrons():\n",
    "                    bonding_atoms_w.append(j)\n",
    "            \n",
    "            print(len(bonding_atoms_R), len(bonding_atoms_w))\n",
    "            if molblock:\n",
    "                conf = Chem.Conformer(mR.GetNumAtoms())\n",
    "                conf.Set3D(False)\n",
    "                atom_pos = mw.GetConformer().GetAtomPosition(i)\n",
    "                for j in range(mR.GetNumAtoms()):\n",
    "                    conf.SetAtomPosition(j, atom_pos)\n",
    "                mR.AddConformer(conf)\n",
    "            combo = Chem.CombineMols(mw, mR)  # combine two subgraphs into a single graph\n",
    "            \n",
    "            mw = Chem.RWMol(combo)\n",
    "            if len(bonding_atoms_R) == 1:\n",
    "                for atom in bonding_atoms_w:\n",
    "                    bond_order = mw.GetAtomWithIdx(atom).GetNumRadicalElectrons()\n",
    "                    mw.AddBond(atom, bonding_atoms_R[0], order=BOND_TYPES[bond_order])\n",
    "            else:\n",
    "                if direction == 1:\n",
    "                    atom_1R, atom_2R = bonding_atoms_R\n",
    "                else:\n",
    "                    atom_2R, atom_1R = bonding_atoms_R\n",
    "                order_1 = mw.GetAtomWithIdx(atom_1R).GetNumRadicalElectrons()\n",
    "                order_2 = mw.GetAtomWithIdx(atom_2R).GetNumRadicalElectrons()\n",
    "                cur_sum = 0\n",
    "                bonding_atoms_w.sort(key=lambda idx: coords[idx][0])\n",
    "                for j, atom in enumerate(bonding_atoms_w):\n",
    "                    cur_sum += mw.GetAtomWithIdx(atom).GetNumRadicalElectrons()\n",
    "                    if cur_sum == order_1:\n",
    "                        break\n",
    "                for k, atom in enumerate(bonding_atoms_w):\n",
    "                    bond_order = mw.GetAtomWithIdx(atom).GetNumRadicalElectrons()\n",
    "                    if k <= j:\n",
    "                        mw.AddBond(atom, atom_1R, order=BOND_TYPES[bond_order])\n",
    "                    else:\n",
    "                        mw.AddBond(atom, atom_2R, order=BOND_TYPES[bond_order])\n",
    "                    \n",
    "            for atom in bonding_atoms_w:\n",
    "                mw.GetAtomWithIdx(atom).SetNumRadicalElectrons(0)\n",
    "            for atom in bonding_atoms_R:\n",
    "                mw.GetAtomWithIdx(atom).SetNumRadicalElectrons(0)\n",
    "            \n",
    "            mw.RemoveAtom(i)\n",
    "            break\n",
    "pred_smiles = Chem.MolToSmiles(mw)\n",
    "mol = mw.GetMol()\n",
    "\n",
    "print(pred_smiles)\n",
    "mol"
   ]
  },
  {
   "cell_type": "code",
   "execution_count": 131,
   "id": "a6bbfa92-7858-45e0-90da-8b6b9f3e82ef",
   "metadata": {},
   "outputs": [
    {
     "name": "stdout",
     "output_type": "stream",
     "text": [
      "0 *\n",
      "1.0\n",
      "1 C\n",
      "1.0\n",
      "2 O\n",
      "2.0\n",
      "3 O\n",
      "1.0\n",
      "4 C\n",
      "1.0\n",
      "5 C\n",
      "1.0\n",
      "6 C\n",
      "1.0\n",
      "7 C\n",
      "1.0\n",
      "8 C\n",
      "1.0\n",
      "9 O\n",
      "1.0\n",
      "10 C\n",
      "1.0\n",
      "11 *\n",
      "1.0\n",
      "12 O\n",
      "2.0\n",
      "13 C\n",
      "1.0\n",
      "14 O\n",
      "1.0\n",
      "15 C\n",
      "1.0\n",
      "16 *\n",
      "1.0\n",
      "17 O\n",
      "2.0\n"
     ]
    },
    {
     "data": {
      "image/png": "[encoded data removed]",
      "text/plain": [
       "<rdkit.Chem.rdchem.Mol at 0x7f6d555481c0>"
      ]
     },
     "execution_count": 131,
     "metadata": {},
     "output_type": "execute_result"
    }
   ],
   "source": [
    "def mol_with_atom_index(mol):\n",
    "    for atom in mol.GetAtoms():\n",
    "        atom.SetAtomMapNum(atom.GetIdx())\n",
    "    return mol\n",
    "\n",
    "# mol = Chem.MolFromSmiles('CC(C)P(=O)(CC(=O)OC(C)(C)C)C(C)C')\n",
    "# mol = Chem.MolFromSmiles('CCOP(=O)(OCC)C(C)Cc1c2ccccc2cc2ccccc12')\n",
    "mol = Chem.MolFromSmiles('[4*]C(=O)OCC(CC)(COC([5*])=O)COC([5*])=O')\n",
    "for atom in mol.GetAtoms():\n",
    "    print(atom.GetIdx(), atom.GetSymbol())\n",
    "    print(atom.GetBonds()[0].GetBondTypeAsDouble())\n",
    "mol_with_atom_index(mol)"
   ]
  },
  {
   "cell_type": "code",
   "execution_count": 81,
   "id": "51d8d9a9-cf65-4ddb-ba78-ba5c2d869475",
   "metadata": {},
   "outputs": [
    {
     "name": "stdout",
     "output_type": "stream",
     "text": [
      "True\n",
      "False\n",
      "True\n",
      "False\n",
      "True\n",
      "False\n",
      "True\n",
      "False\n",
      "True\n",
      "False\n",
      "True\n",
      "False\n",
      "True\n",
      "False\n",
      "True\n",
      "False\n"
     ]
    }
   ],
   "source": [
    "a = Chem.MolFromSmiles('CC(=O)OBr')\n",
    "b = Chem.MolFromSmiles('Cl[SiH2]I')\n",
    "ab = Chem.CombineMols(a, b)\n",
    "# print(a.GetNumAtoms())\n",
    "# for x in ab.GetAtoms():\n",
    "#     print(x.GetSymbol())\n",
    "for x, y in zip(ab.GetAtoms(), list(a.GetAtoms()) + list(b.GetAtoms())):\n",
    "    print(x.GetSymbol() == y.GetSymbol())\n",
    "    print(x is y)"
   ]
  },
  {
   "cell_type": "code",
   "execution_count": 143,
   "id": "d37a0063-bb5d-4d50-8b37-ca96d31e81d6",
   "metadata": {},
   "outputs": [
    {
     "data": {
      "text/plain": [
       "['c', '%10', 'c', 'c', 'c', 'c', 'c', '%10']"
      ]
     },
     "execution_count": 143,
     "metadata": {},
     "output_type": "execute_result"
    }
   ],
   "source": [
    "c = Chem.MolFromSmiles('C(O)=O')\n",
    "atomwise_tokenizer('c%10ccccc%10')"
   ]
  },
  {
   "cell_type": "code",
   "execution_count": 166,
   "id": "da313198-32a4-4536-aac7-6b5c19921ed7",
   "metadata": {},
   "outputs": [
    {
     "name": "stdout",
     "output_type": "stream",
     "text": [
      "[R1] 1\n",
      "C 4\n",
      "( 3\n",
      "= 2\n",
      "O 2\n",
      ") 2\n",
      "C 3\n",
      "( 2\n",
      "[OiPr] 1\n",
      ") 2\n",
      "[C2H4O] 2\n",
      "C 4\n",
      "( 2\n",
      "[OMe] 1\n",
      ") 3\n",
      "( 2\n",
      "F 1\n",
      ") 2\n",
      "C 3\n",
      "1 2\n",
      "C 2\n",
      "C 2\n",
      "C 2\n",
      "C 2\n",
      "C 3\n",
      "1 2\n",
      "[R2] 1\n"
     ]
    }
   ],
   "source": [
    "from bms.constants import SUBSTITUTIONS\n",
    "from SmilesPE.pretokenizer import atomwise_tokenizer\n",
    "\n",
    "def _get_bond_type(char):\n",
    "    if char == '=':\n",
    "        return 2\n",
    "    if char == '#':\n",
    "        return 3\n",
    "    return 1\n",
    "\n",
    "def _get_num_bonds(tokens, idx):\n",
    "    if idx == 0:\n",
    "        num_bonds = 0\n",
    "    else:\n",
    "        num_bonds = _get_bond_type(tokens[idx-1])\n",
    "    if idx + 1 < len(tokens):\n",
    "        next_token = tokens[idx+1]\n",
    "        if next_token.isdigit() or (next_token[0] == '%' and next_token[1:].isdigit()):\n",
    "            num_bonds += 1  # assume ring-closing bond is always single bond\n",
    "            idx += 1\n",
    "    idx += 1\n",
    "    while idx < len(tokens):\n",
    "        depth = 0\n",
    "        for i in range(idx, len(tokens)):\n",
    "            if tokens[i] == '(':\n",
    "                if depth == 0:\n",
    "                    num_bonds += _get_bond_type(tokens[i+1]) if i + 1 < len(tokens) else 1\n",
    "                depth += 1\n",
    "            elif tokens[i] == ')':\n",
    "                depth -= 1\n",
    "                if depth == 0:\n",
    "                    break\n",
    "                if depth < 0:\n",
    "                    return num_bonds\n",
    "            elif depth == 0:\n",
    "                num_bonds += _get_bond_type(tokens[i])\n",
    "                return num_bonds\n",
    "        idx = i + 1\n",
    "    return num_bonds\n",
    "            \n",
    "tokens = ['[R1]', 'C', '(', '=', 'O', ')', 'C', '(', '[OiPr]', ')', '[C2H4O]', 'C', '(', '[OMe]', ')', '(', 'F', ')', 'C', '1', 'C', 'C', 'C', 'C', 'C', '1', '[R2]']\n",
    "for i in range(len(tokens)):\n",
    "    print(tokens[i], _get_num_bonds(tokens, i))"
   ]
  },
  {
   "cell_type": "code",
   "execution_count": 165,
   "id": "2c982538-a9db-435f-a1cb-bf4969ce8720",
   "metadata": {},
   "outputs": [
    {
     "name": "stdout",
     "output_type": "stream",
     "text": [
      "['[R1]', 'C', '(', '=', 'O', ')', 'C', '(', '[OiPr]', ')', '[C2H4O]', 'C', '(', '[OMe]', ')', '(', 'F', ')', 'C', '1', 'C', 'C', 'C', 'C', 'C', '1', '[R2]']\n"
     ]
    }
   ],
   "source": [
    "print(atomwise_tokenizer(\"[R1]C(=O)C([OiPr])[C2H4O]C([OMe])(F)C1CCCCC1[R2]\"))"
   ]
  },
  {
   "cell_type": "code",
   "execution_count": 219,
   "id": "56d36f06-ba10-474c-9365-36af64710a40",
   "metadata": {},
   "outputs": [
    {
     "name": "stdout",
     "output_type": "stream",
     "text": [
      "['[)]', '.', '[(]', '.', 'C', 'C', 'C', '(', 'C', ')', 'C', '(', '=', 'O', ')', 'N', 'C', '1', 'C', 'C', '2', 'C', 'C', '1', 'C', '1', 'C', 'C', 'C', 'C', '2', '1']\n",
      "[)] 1\n",
      "[(] 2\n",
      "C.C.CCC(C)C(=O)NC1CC2CC1C1CCCC21\n",
      "[]\n"
     ]
    }
   ],
   "source": [
    "def _replace_functional_group(smiles):\n",
    "    smiles = smiles.replace('<unk>', 'C')\n",
    "    for i, r in enumerate(RGROUP_SYMBOLS):\n",
    "        symbol = f'[{r}]'\n",
    "        if symbol in smiles:\n",
    "            if r[0] == 'R' and r[1:].isdigit():\n",
    "                smiles = smiles.replace(symbol, f'[{int(r[1:])}*]')\n",
    "            else:\n",
    "                smiles = smiles.replace(symbol, '*')\n",
    "    mappings = []\n",
    "    i = 1\n",
    "    for sub in SUBSTITUTIONS:\n",
    "        for abbrv in sub.abbrvs:\n",
    "            symbol = f'[{abbrv}]'\n",
    "            if symbol in smiles:\n",
    "                # assert i < len(PLACEHOLDER_ATOMS), \"Not enough placeholders\"\n",
    "                while f'[{i}*]' in smiles:\n",
    "                    i += 1\n",
    "                # placeholder = PLACEHOLDER_ATOMS[i]\n",
    "                placeholder = f'[{i}*]'\n",
    "                while symbol in smiles:\n",
    "                    smiles = smiles.replace(symbol, placeholder, 1)\n",
    "                    mappings.append((placeholder, i, sub.smiles, 0, 0, None))\n",
    "    tokens = atomwise_tokenizer(smiles)\n",
    "    print(tokens)\n",
    "    new_tokens = []\n",
    "    for idx, t in enumerate(tokens):\n",
    "        if t[0] == '[':\n",
    "            if Chem.AtomFromSmiles(t) is not None:\n",
    "                success = True\n",
    "            else:\n",
    "                num_bonds = _get_num_bonds(tokens, idx)\n",
    "                print(t, num_bonds)\n",
    "                sub_smiles, bonds_left, last_idx, direction, success = _condensed_formula_to_smiles(t[1:-1], num_bonds)\n",
    "                if not sub_smiles or Chem.MolFromSmiles(sub_smiles) is None:\n",
    "                    success = False\n",
    "                if success:\n",
    "                    while f'[{i}*]' in smiles or f'[{i}*]' in new_tokens:\n",
    "                        i += 1\n",
    "                    placeholder = f'[{i}*]'\n",
    "                    t = placeholder\n",
    "                    mappings.append((placeholder, i, sub_smiles, bonds_left, last_idx, direction))\n",
    "            new_tokens.append(t if success else 'C')\n",
    "        else:\n",
    "            new_tokens.append(t)\n",
    "    smiles = ''.join(new_tokens)\n",
    "    print(smiles)\n",
    "    print(mappings)\n",
    "    \n",
    "# _replace_functional_group(\"[R1]C(=O)C([OiPr])[C2H4O]C([OMe])[R2]\")\n",
    "_replace_functional_group(\"[)].[(].CCC(C)C(=O)NC1CC2CC1C1CCCC21\")"
   ]
  },
  {
   "cell_type": "code",
   "execution_count": 183,
   "id": "dc6eb0b0-d7ad-4c41-a3c5-08db91612418",
   "metadata": {},
   "outputs": [
    {
     "ename": "AttributeError",
     "evalue": "'NoneType' object has no attribute 'SetChiralTag'",
     "output_type": "error",
     "traceback": [
      "\u001b[0;31m---------------------------------------------------------------------------\u001b[0m",
      "\u001b[0;31mAttributeError\u001b[0m                            Traceback (most recent call last)",
      "Input \u001b[0;32mIn [183]\u001b[0m, in \u001b[0;36m<cell line: 2>\u001b[0;34m()\u001b[0m\n\u001b[1;32m      1\u001b[0m atom \u001b[38;5;241m=\u001b[39m Chem\u001b[38;5;241m.\u001b[39mAtomFromSmiles(\u001b[38;5;124m'\u001b[39m\u001b[38;5;124m[CO2tBu]\u001b[39m\u001b[38;5;124m'\u001b[39m)\n\u001b[0;32m----> 2\u001b[0m \u001b[43matom\u001b[49m\u001b[38;5;241;43m.\u001b[39;49m\u001b[43mSetChiralTag\u001b[49m(Chem\u001b[38;5;241m.\u001b[39mrdchem\u001b[38;5;241m.\u001b[39mChiralType\u001b[38;5;241m.\u001b[39mCHI_UNSPECIFIED)\n",
      "\u001b[0;31mAttributeError\u001b[0m: 'NoneType' object has no attribute 'SetChiralTag'"
     ]
    }
   ],
   "source": [
    "atom = Chem.AtomFromSmiles('[CO2tBu]')\n",
    "atom.SetChiralTag(Chem.rdchem.ChiralType.CHI_UNSPECIFIED)"
   ]
  },
  {
   "cell_type": "code",
   "execution_count": 186,
   "id": "19fa3f9b-058a-452a-95c2-ce8c47f9f7d4",
   "metadata": {},
   "outputs": [
    {
     "data": {
      "text/plain": [
       "('', 1, -1, -1, False)"
      ]
     },
     "execution_count": 186,
     "metadata": {},
     "output_type": "execute_result"
    }
   ],
   "source": [
    "_condensed_formula_to_smiles('OiPr', 1)"
   ]
  },
  {
   "cell_type": "code",
   "execution_count": 215,
   "id": "bb8caaab-3d00-4fdf-b85e-169a00a34699",
   "metadata": {},
   "outputs": [
    {
     "data": {
      "text/plain": [
       "rdkit.Chem.rdchem.Mol"
      ]
     },
     "execution_count": 215,
     "metadata": {},
     "output_type": "execute_result"
    }
   ],
   "source": [
    "mol = Chem.MolFromSmiles('')\n",
    "type(mol)"
   ]
  },
  {
   "cell_type": "code",
   "execution_count": null,
   "id": "af7bc883-a36a-4e83-821d-8f0ca9eecb8e",
   "metadata": {},
   "outputs": [],
   "source": []
  }
 ],
 "metadata": {
  "kernelspec": {
   "display_name": "Python 3 (ipykernel)",
   "language": "python",
   "name": "python3"
  },
  "language_info": {
   "codemirror_mode": {
    "name": "ipython",
    "version": 3
   },
   "file_extension": ".py",
   "mimetype": "text/x-python",
   "name": "python",
   "nbconvert_exporter": "python",
   "pygments_lexer": "ipython3",
   "version": "3.9.12"
  }
 },
 "nbformat": 4,
 "nbformat_minor": 5
}
